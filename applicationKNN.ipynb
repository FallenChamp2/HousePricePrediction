{
 "cells": [
  {
   "cell_type": "code",
   "execution_count": 1,
   "id": "7043bc5d",
   "metadata": {
    "execution": {
     "iopub.execute_input": "2021-08-29T14:50:05.293925Z",
     "iopub.status.busy": "2021-08-29T14:50:05.292691Z",
     "iopub.status.idle": "2021-08-29T14:50:05.519685Z",
     "shell.execute_reply": "2021-08-29T14:50:05.520191Z",
     "shell.execute_reply.started": "2021-08-29T14:43:41.072366Z"
    },
    "papermill": {
     "duration": 0.257438,
     "end_time": "2021-08-29T14:50:05.520476",
     "exception": false,
     "start_time": "2021-08-29T14:50:05.263038",
     "status": "completed"
    },
    "tags": []
   },
   "outputs": [
    {
     "data": {
      "text/html": [
       "<div>\n",
       "<style scoped>\n",
       "    .dataframe tbody tr th:only-of-type {\n",
       "        vertical-align: middle;\n",
       "    }\n",
       "\n",
       "    .dataframe tbody tr th {\n",
       "        vertical-align: top;\n",
       "    }\n",
       "\n",
       "    .dataframe thead th {\n",
       "        text-align: right;\n",
       "    }\n",
       "</style>\n",
       "<table border=\"1\" class=\"dataframe\">\n",
       "  <thead>\n",
       "    <tr style=\"text-align: right;\">\n",
       "      <th></th>\n",
       "      <th>POSTED_BY</th>\n",
       "      <th>UNDER_CONSTRUCTION</th>\n",
       "      <th>RERA</th>\n",
       "      <th>BHK_NO.</th>\n",
       "      <th>BHK_OR_RK</th>\n",
       "      <th>SQUARE_FT</th>\n",
       "      <th>READY_TO_MOVE</th>\n",
       "      <th>RESALE</th>\n",
       "      <th>ADDRESS</th>\n",
       "      <th>LONGITUDE</th>\n",
       "      <th>LATITUDE</th>\n",
       "      <th>TARGET(PRICE_IN_LACS)</th>\n",
       "    </tr>\n",
       "  </thead>\n",
       "  <tbody>\n",
       "    <tr>\n",
       "      <th>0</th>\n",
       "      <td>Owner</td>\n",
       "      <td>0</td>\n",
       "      <td>0</td>\n",
       "      <td>2</td>\n",
       "      <td>BHK</td>\n",
       "      <td>1300.236407</td>\n",
       "      <td>1</td>\n",
       "      <td>1</td>\n",
       "      <td>Ksfc Layout,Bangalore</td>\n",
       "      <td>12.969910</td>\n",
       "      <td>77.597960</td>\n",
       "      <td>55.0</td>\n",
       "    </tr>\n",
       "    <tr>\n",
       "      <th>1</th>\n",
       "      <td>Dealer</td>\n",
       "      <td>0</td>\n",
       "      <td>0</td>\n",
       "      <td>2</td>\n",
       "      <td>BHK</td>\n",
       "      <td>1275.000000</td>\n",
       "      <td>1</td>\n",
       "      <td>1</td>\n",
       "      <td>Vishweshwara Nagar,Mysore</td>\n",
       "      <td>12.274538</td>\n",
       "      <td>76.644605</td>\n",
       "      <td>51.0</td>\n",
       "    </tr>\n",
       "    <tr>\n",
       "      <th>2</th>\n",
       "      <td>Owner</td>\n",
       "      <td>0</td>\n",
       "      <td>0</td>\n",
       "      <td>2</td>\n",
       "      <td>BHK</td>\n",
       "      <td>933.159722</td>\n",
       "      <td>1</td>\n",
       "      <td>1</td>\n",
       "      <td>Jigani,Bangalore</td>\n",
       "      <td>12.778033</td>\n",
       "      <td>77.632191</td>\n",
       "      <td>43.0</td>\n",
       "    </tr>\n",
       "    <tr>\n",
       "      <th>3</th>\n",
       "      <td>Owner</td>\n",
       "      <td>0</td>\n",
       "      <td>1</td>\n",
       "      <td>2</td>\n",
       "      <td>BHK</td>\n",
       "      <td>929.921143</td>\n",
       "      <td>1</td>\n",
       "      <td>1</td>\n",
       "      <td>Sector-1 Vaishali,Ghaziabad</td>\n",
       "      <td>28.642300</td>\n",
       "      <td>77.344500</td>\n",
       "      <td>62.5</td>\n",
       "    </tr>\n",
       "    <tr>\n",
       "      <th>4</th>\n",
       "      <td>Dealer</td>\n",
       "      <td>1</td>\n",
       "      <td>0</td>\n",
       "      <td>2</td>\n",
       "      <td>BHK</td>\n",
       "      <td>999.009247</td>\n",
       "      <td>0</td>\n",
       "      <td>1</td>\n",
       "      <td>New Town,Kolkata</td>\n",
       "      <td>22.592200</td>\n",
       "      <td>88.484911</td>\n",
       "      <td>60.5</td>\n",
       "    </tr>\n",
       "  </tbody>\n",
       "</table>\n",
       "</div>"
      ],
      "text/plain": [
       "  POSTED_BY  UNDER_CONSTRUCTION  RERA  BHK_NO. BHK_OR_RK    SQUARE_FT  \\\n",
       "0     Owner                   0     0        2       BHK  1300.236407   \n",
       "1    Dealer                   0     0        2       BHK  1275.000000   \n",
       "2     Owner                   0     0        2       BHK   933.159722   \n",
       "3     Owner                   0     1        2       BHK   929.921143   \n",
       "4    Dealer                   1     0        2       BHK   999.009247   \n",
       "\n",
       "   READY_TO_MOVE  RESALE                      ADDRESS  LONGITUDE   LATITUDE  \\\n",
       "0              1       1        Ksfc Layout,Bangalore  12.969910  77.597960   \n",
       "1              1       1    Vishweshwara Nagar,Mysore  12.274538  76.644605   \n",
       "2              1       1             Jigani,Bangalore  12.778033  77.632191   \n",
       "3              1       1  Sector-1 Vaishali,Ghaziabad  28.642300  77.344500   \n",
       "4              0       1             New Town,Kolkata  22.592200  88.484911   \n",
       "\n",
       "   TARGET(PRICE_IN_LACS)  \n",
       "0                   55.0  \n",
       "1                   51.0  \n",
       "2                   43.0  \n",
       "3                   62.5  \n",
       "4                   60.5  "
      ]
     },
     "execution_count": 1,
     "metadata": {},
     "output_type": "execute_result"
    }
   ],
   "source": [
    "import pandas as pd\n",
    "import numpy as np\n",
    "\n",
    "HPP = pd.read_csv('../input/house-price-prediction-challenge/train.csv')\n",
    "HPP.head()"
   ]
  },
  {
   "cell_type": "code",
   "execution_count": 2,
   "id": "899e3b16",
   "metadata": {
    "execution": {
     "iopub.execute_input": "2021-08-29T14:50:05.575916Z",
     "iopub.status.busy": "2021-08-29T14:50:05.575288Z",
     "iopub.status.idle": "2021-08-29T14:50:05.592200Z",
     "shell.execute_reply": "2021-08-29T14:50:05.591684Z",
     "shell.execute_reply.started": "2021-08-29T14:43:41.167918Z"
    },
    "papermill": {
     "duration": 0.045755,
     "end_time": "2021-08-29T14:50:05.592342",
     "exception": false,
     "start_time": "2021-08-29T14:50:05.546587",
     "status": "completed"
    },
    "tags": []
   },
   "outputs": [
    {
     "data": {
      "text/plain": [
       "POSTED_BY                0\n",
       "UNDER_CONSTRUCTION       0\n",
       "RERA                     0\n",
       "BHK_NO.                  0\n",
       "BHK_OR_RK                0\n",
       "SQUARE_FT                0\n",
       "READY_TO_MOVE            0\n",
       "RESALE                   0\n",
       "ADDRESS                  0\n",
       "LONGITUDE                0\n",
       "LATITUDE                 0\n",
       "TARGET(PRICE_IN_LACS)    0\n",
       "dtype: int64"
      ]
     },
     "execution_count": 2,
     "metadata": {},
     "output_type": "execute_result"
    }
   ],
   "source": [
    "HPP.isnull().sum()"
   ]
  },
  {
   "cell_type": "code",
   "execution_count": 3,
   "id": "7743963d",
   "metadata": {
    "execution": {
     "iopub.execute_input": "2021-08-29T14:50:05.648286Z",
     "iopub.status.busy": "2021-08-29T14:50:05.647604Z",
     "iopub.status.idle": "2021-08-29T14:50:05.675426Z",
     "shell.execute_reply": "2021-08-29T14:50:05.676168Z",
     "shell.execute_reply.started": "2021-08-29T14:43:41.196015Z"
    },
    "papermill": {
     "duration": 0.059067,
     "end_time": "2021-08-29T14:50:05.676434",
     "exception": false,
     "start_time": "2021-08-29T14:50:05.617367",
     "status": "completed"
    },
    "tags": []
   },
   "outputs": [
    {
     "name": "stdout",
     "output_type": "stream",
     "text": [
      "<class 'pandas.core.frame.DataFrame'>\n",
      "RangeIndex: 29451 entries, 0 to 29450\n",
      "Data columns (total 12 columns):\n",
      " #   Column                 Non-Null Count  Dtype  \n",
      "---  ------                 --------------  -----  \n",
      " 0   POSTED_BY              29451 non-null  object \n",
      " 1   UNDER_CONSTRUCTION     29451 non-null  int64  \n",
      " 2   RERA                   29451 non-null  int64  \n",
      " 3   BHK_NO.                29451 non-null  int64  \n",
      " 4   BHK_OR_RK              29451 non-null  object \n",
      " 5   SQUARE_FT              29451 non-null  float64\n",
      " 6   READY_TO_MOVE          29451 non-null  int64  \n",
      " 7   RESALE                 29451 non-null  int64  \n",
      " 8   ADDRESS                29451 non-null  object \n",
      " 9   LONGITUDE              29451 non-null  float64\n",
      " 10  LATITUDE               29451 non-null  float64\n",
      " 11  TARGET(PRICE_IN_LACS)  29451 non-null  float64\n",
      "dtypes: float64(4), int64(5), object(3)\n",
      "memory usage: 2.7+ MB\n"
     ]
    }
   ],
   "source": [
    "HPP.info()"
   ]
  },
  {
   "cell_type": "code",
   "execution_count": 4,
   "id": "0983f284",
   "metadata": {
    "execution": {
     "iopub.execute_input": "2021-08-29T14:50:05.732176Z",
     "iopub.status.busy": "2021-08-29T14:50:05.731520Z",
     "iopub.status.idle": "2021-08-29T14:50:05.744738Z",
     "shell.execute_reply": "2021-08-29T14:50:05.744139Z",
     "shell.execute_reply.started": "2021-08-29T14:43:41.235216Z"
    },
    "papermill": {
     "duration": 0.041703,
     "end_time": "2021-08-29T14:50:05.744893",
     "exception": false,
     "start_time": "2021-08-29T14:50:05.703190",
     "status": "completed"
    },
    "tags": []
   },
   "outputs": [
    {
     "name": "stdout",
     "output_type": "stream",
     "text": [
      "6899\n"
     ]
    }
   ],
   "source": [
    "HPP['ADDRESS'].unique()\n",
    "print(len(HPP['ADDRESS'].unique()))"
   ]
  },
  {
   "cell_type": "code",
   "execution_count": 5,
   "id": "87e0cec9",
   "metadata": {
    "execution": {
     "iopub.execute_input": "2021-08-29T14:50:05.812842Z",
     "iopub.status.busy": "2021-08-29T14:50:05.811483Z",
     "iopub.status.idle": "2021-08-29T14:50:05.818305Z",
     "shell.execute_reply": "2021-08-29T14:50:05.819038Z",
     "shell.execute_reply.started": "2021-08-29T14:43:41.250688Z"
    },
    "papermill": {
     "duration": 0.044037,
     "end_time": "2021-08-29T14:50:05.819301",
     "exception": false,
     "start_time": "2021-08-29T14:50:05.775264",
     "status": "completed"
    },
    "tags": []
   },
   "outputs": [
    {
     "data": {
      "text/plain": [
       "array(['Owner', 'Dealer', 'Builder'], dtype=object)"
      ]
     },
     "execution_count": 5,
     "metadata": {},
     "output_type": "execute_result"
    }
   ],
   "source": [
    "HPP['POSTED_BY'].unique()"
   ]
  },
  {
   "cell_type": "code",
   "execution_count": 6,
   "id": "6fe46958",
   "metadata": {
    "execution": {
     "iopub.execute_input": "2021-08-29T14:50:05.881271Z",
     "iopub.status.busy": "2021-08-29T14:50:05.880215Z",
     "iopub.status.idle": "2021-08-29T14:50:05.886569Z",
     "shell.execute_reply": "2021-08-29T14:50:05.886062Z",
     "shell.execute_reply.started": "2021-08-29T14:43:41.261939Z"
    },
    "papermill": {
     "duration": 0.040963,
     "end_time": "2021-08-29T14:50:05.886746",
     "exception": false,
     "start_time": "2021-08-29T14:50:05.845783",
     "status": "completed"
    },
    "tags": []
   },
   "outputs": [
    {
     "data": {
      "text/plain": [
       "array(['BHK', 'RK'], dtype=object)"
      ]
     },
     "execution_count": 6,
     "metadata": {},
     "output_type": "execute_result"
    }
   ],
   "source": [
    "HPP['BHK_OR_RK'].unique()"
   ]
  },
  {
   "cell_type": "code",
   "execution_count": 7,
   "id": "cd58b725",
   "metadata": {
    "execution": {
     "iopub.execute_input": "2021-08-29T14:50:05.944229Z",
     "iopub.status.busy": "2021-08-29T14:50:05.943566Z",
     "iopub.status.idle": "2021-08-29T14:50:05.945347Z",
     "shell.execute_reply": "2021-08-29T14:50:05.945884Z",
     "shell.execute_reply.started": "2021-08-29T14:43:41.278015Z"
    },
    "papermill": {
     "duration": 0.032913,
     "end_time": "2021-08-29T14:50:05.946050",
     "exception": false,
     "start_time": "2021-08-29T14:50:05.913137",
     "status": "completed"
    },
    "tags": []
   },
   "outputs": [],
   "source": [
    "#HPP = HPP[: 8000]"
   ]
  },
  {
   "cell_type": "code",
   "execution_count": 8,
   "id": "38d61553",
   "metadata": {
    "execution": {
     "iopub.execute_input": "2021-08-29T14:50:06.001850Z",
     "iopub.status.busy": "2021-08-29T14:50:06.001201Z",
     "iopub.status.idle": "2021-08-29T14:50:06.007657Z",
     "shell.execute_reply": "2021-08-29T14:50:06.008189Z",
     "shell.execute_reply.started": "2021-08-29T14:43:41.289164Z"
    },
    "papermill": {
     "duration": 0.035821,
     "end_time": "2021-08-29T14:50:06.008365",
     "exception": false,
     "start_time": "2021-08-29T14:50:05.972544",
     "status": "completed"
    },
    "tags": []
   },
   "outputs": [],
   "source": [
    "X = HPP.iloc[ : , 0 : 11]"
   ]
  },
  {
   "cell_type": "code",
   "execution_count": 9,
   "id": "7ef8ee3d",
   "metadata": {
    "execution": {
     "iopub.execute_input": "2021-08-29T14:50:06.064160Z",
     "iopub.status.busy": "2021-08-29T14:50:06.063530Z",
     "iopub.status.idle": "2021-08-29T14:50:06.080467Z",
     "shell.execute_reply": "2021-08-29T14:50:06.079841Z",
     "shell.execute_reply.started": "2021-08-29T14:43:41.304028Z"
    },
    "papermill": {
     "duration": 0.045797,
     "end_time": "2021-08-29T14:50:06.080609",
     "exception": false,
     "start_time": "2021-08-29T14:50:06.034812",
     "status": "completed"
    },
    "tags": []
   },
   "outputs": [
    {
     "data": {
      "text/html": [
       "<div>\n",
       "<style scoped>\n",
       "    .dataframe tbody tr th:only-of-type {\n",
       "        vertical-align: middle;\n",
       "    }\n",
       "\n",
       "    .dataframe tbody tr th {\n",
       "        vertical-align: top;\n",
       "    }\n",
       "\n",
       "    .dataframe thead th {\n",
       "        text-align: right;\n",
       "    }\n",
       "</style>\n",
       "<table border=\"1\" class=\"dataframe\">\n",
       "  <thead>\n",
       "    <tr style=\"text-align: right;\">\n",
       "      <th></th>\n",
       "      <th>POSTED_BY</th>\n",
       "      <th>UNDER_CONSTRUCTION</th>\n",
       "      <th>RERA</th>\n",
       "      <th>BHK_NO.</th>\n",
       "      <th>BHK_OR_RK</th>\n",
       "      <th>SQUARE_FT</th>\n",
       "      <th>READY_TO_MOVE</th>\n",
       "      <th>RESALE</th>\n",
       "      <th>ADDRESS</th>\n",
       "      <th>LONGITUDE</th>\n",
       "      <th>LATITUDE</th>\n",
       "    </tr>\n",
       "  </thead>\n",
       "  <tbody>\n",
       "    <tr>\n",
       "      <th>0</th>\n",
       "      <td>Owner</td>\n",
       "      <td>0</td>\n",
       "      <td>0</td>\n",
       "      <td>2</td>\n",
       "      <td>BHK</td>\n",
       "      <td>1300.236407</td>\n",
       "      <td>1</td>\n",
       "      <td>1</td>\n",
       "      <td>Ksfc Layout,Bangalore</td>\n",
       "      <td>12.969910</td>\n",
       "      <td>77.597960</td>\n",
       "    </tr>\n",
       "    <tr>\n",
       "      <th>1</th>\n",
       "      <td>Dealer</td>\n",
       "      <td>0</td>\n",
       "      <td>0</td>\n",
       "      <td>2</td>\n",
       "      <td>BHK</td>\n",
       "      <td>1275.000000</td>\n",
       "      <td>1</td>\n",
       "      <td>1</td>\n",
       "      <td>Vishweshwara Nagar,Mysore</td>\n",
       "      <td>12.274538</td>\n",
       "      <td>76.644605</td>\n",
       "    </tr>\n",
       "    <tr>\n",
       "      <th>2</th>\n",
       "      <td>Owner</td>\n",
       "      <td>0</td>\n",
       "      <td>0</td>\n",
       "      <td>2</td>\n",
       "      <td>BHK</td>\n",
       "      <td>933.159722</td>\n",
       "      <td>1</td>\n",
       "      <td>1</td>\n",
       "      <td>Jigani,Bangalore</td>\n",
       "      <td>12.778033</td>\n",
       "      <td>77.632191</td>\n",
       "    </tr>\n",
       "    <tr>\n",
       "      <th>3</th>\n",
       "      <td>Owner</td>\n",
       "      <td>0</td>\n",
       "      <td>1</td>\n",
       "      <td>2</td>\n",
       "      <td>BHK</td>\n",
       "      <td>929.921143</td>\n",
       "      <td>1</td>\n",
       "      <td>1</td>\n",
       "      <td>Sector-1 Vaishali,Ghaziabad</td>\n",
       "      <td>28.642300</td>\n",
       "      <td>77.344500</td>\n",
       "    </tr>\n",
       "    <tr>\n",
       "      <th>4</th>\n",
       "      <td>Dealer</td>\n",
       "      <td>1</td>\n",
       "      <td>0</td>\n",
       "      <td>2</td>\n",
       "      <td>BHK</td>\n",
       "      <td>999.009247</td>\n",
       "      <td>0</td>\n",
       "      <td>1</td>\n",
       "      <td>New Town,Kolkata</td>\n",
       "      <td>22.592200</td>\n",
       "      <td>88.484911</td>\n",
       "    </tr>\n",
       "  </tbody>\n",
       "</table>\n",
       "</div>"
      ],
      "text/plain": [
       "  POSTED_BY  UNDER_CONSTRUCTION  RERA  BHK_NO. BHK_OR_RK    SQUARE_FT  \\\n",
       "0     Owner                   0     0        2       BHK  1300.236407   \n",
       "1    Dealer                   0     0        2       BHK  1275.000000   \n",
       "2     Owner                   0     0        2       BHK   933.159722   \n",
       "3     Owner                   0     1        2       BHK   929.921143   \n",
       "4    Dealer                   1     0        2       BHK   999.009247   \n",
       "\n",
       "   READY_TO_MOVE  RESALE                      ADDRESS  LONGITUDE   LATITUDE  \n",
       "0              1       1        Ksfc Layout,Bangalore  12.969910  77.597960  \n",
       "1              1       1    Vishweshwara Nagar,Mysore  12.274538  76.644605  \n",
       "2              1       1             Jigani,Bangalore  12.778033  77.632191  \n",
       "3              1       1  Sector-1 Vaishali,Ghaziabad  28.642300  77.344500  \n",
       "4              0       1             New Town,Kolkata  22.592200  88.484911  "
      ]
     },
     "execution_count": 9,
     "metadata": {},
     "output_type": "execute_result"
    }
   ],
   "source": [
    "X.head()"
   ]
  },
  {
   "cell_type": "code",
   "execution_count": 10,
   "id": "0ff68858",
   "metadata": {
    "execution": {
     "iopub.execute_input": "2021-08-29T14:50:06.143354Z",
     "iopub.status.busy": "2021-08-29T14:50:06.142675Z",
     "iopub.status.idle": "2021-08-29T14:50:06.145238Z",
     "shell.execute_reply": "2021-08-29T14:50:06.144720Z",
     "shell.execute_reply.started": "2021-08-29T14:43:41.329022Z"
    },
    "papermill": {
     "duration": 0.037605,
     "end_time": "2021-08-29T14:50:06.145377",
     "exception": false,
     "start_time": "2021-08-29T14:50:06.107772",
     "status": "completed"
    },
    "tags": []
   },
   "outputs": [],
   "source": [
    "X.drop('ADDRESS', inplace = True, axis = 1)"
   ]
  },
  {
   "cell_type": "code",
   "execution_count": 11,
   "id": "9d54552a",
   "metadata": {
    "execution": {
     "iopub.execute_input": "2021-08-29T14:50:06.215608Z",
     "iopub.status.busy": "2021-08-29T14:50:06.214694Z",
     "iopub.status.idle": "2021-08-29T14:50:06.221564Z",
     "shell.execute_reply": "2021-08-29T14:50:06.219282Z",
     "shell.execute_reply.started": "2021-08-29T14:43:41.345664Z"
    },
    "papermill": {
     "duration": 0.049638,
     "end_time": "2021-08-29T14:50:06.221848",
     "exception": false,
     "start_time": "2021-08-29T14:50:06.172210",
     "status": "completed"
    },
    "tags": []
   },
   "outputs": [
    {
     "data": {
      "text/html": [
       "<div>\n",
       "<style scoped>\n",
       "    .dataframe tbody tr th:only-of-type {\n",
       "        vertical-align: middle;\n",
       "    }\n",
       "\n",
       "    .dataframe tbody tr th {\n",
       "        vertical-align: top;\n",
       "    }\n",
       "\n",
       "    .dataframe thead th {\n",
       "        text-align: right;\n",
       "    }\n",
       "</style>\n",
       "<table border=\"1\" class=\"dataframe\">\n",
       "  <thead>\n",
       "    <tr style=\"text-align: right;\">\n",
       "      <th></th>\n",
       "      <th>POSTED_BY</th>\n",
       "      <th>UNDER_CONSTRUCTION</th>\n",
       "      <th>RERA</th>\n",
       "      <th>BHK_NO.</th>\n",
       "      <th>BHK_OR_RK</th>\n",
       "      <th>SQUARE_FT</th>\n",
       "      <th>READY_TO_MOVE</th>\n",
       "      <th>RESALE</th>\n",
       "      <th>LONGITUDE</th>\n",
       "      <th>LATITUDE</th>\n",
       "    </tr>\n",
       "  </thead>\n",
       "  <tbody>\n",
       "    <tr>\n",
       "      <th>0</th>\n",
       "      <td>Owner</td>\n",
       "      <td>0</td>\n",
       "      <td>0</td>\n",
       "      <td>2</td>\n",
       "      <td>BHK</td>\n",
       "      <td>1300.236407</td>\n",
       "      <td>1</td>\n",
       "      <td>1</td>\n",
       "      <td>12.969910</td>\n",
       "      <td>77.597960</td>\n",
       "    </tr>\n",
       "    <tr>\n",
       "      <th>1</th>\n",
       "      <td>Dealer</td>\n",
       "      <td>0</td>\n",
       "      <td>0</td>\n",
       "      <td>2</td>\n",
       "      <td>BHK</td>\n",
       "      <td>1275.000000</td>\n",
       "      <td>1</td>\n",
       "      <td>1</td>\n",
       "      <td>12.274538</td>\n",
       "      <td>76.644605</td>\n",
       "    </tr>\n",
       "    <tr>\n",
       "      <th>2</th>\n",
       "      <td>Owner</td>\n",
       "      <td>0</td>\n",
       "      <td>0</td>\n",
       "      <td>2</td>\n",
       "      <td>BHK</td>\n",
       "      <td>933.159722</td>\n",
       "      <td>1</td>\n",
       "      <td>1</td>\n",
       "      <td>12.778033</td>\n",
       "      <td>77.632191</td>\n",
       "    </tr>\n",
       "    <tr>\n",
       "      <th>3</th>\n",
       "      <td>Owner</td>\n",
       "      <td>0</td>\n",
       "      <td>1</td>\n",
       "      <td>2</td>\n",
       "      <td>BHK</td>\n",
       "      <td>929.921143</td>\n",
       "      <td>1</td>\n",
       "      <td>1</td>\n",
       "      <td>28.642300</td>\n",
       "      <td>77.344500</td>\n",
       "    </tr>\n",
       "    <tr>\n",
       "      <th>4</th>\n",
       "      <td>Dealer</td>\n",
       "      <td>1</td>\n",
       "      <td>0</td>\n",
       "      <td>2</td>\n",
       "      <td>BHK</td>\n",
       "      <td>999.009247</td>\n",
       "      <td>0</td>\n",
       "      <td>1</td>\n",
       "      <td>22.592200</td>\n",
       "      <td>88.484911</td>\n",
       "    </tr>\n",
       "  </tbody>\n",
       "</table>\n",
       "</div>"
      ],
      "text/plain": [
       "  POSTED_BY  UNDER_CONSTRUCTION  RERA  BHK_NO. BHK_OR_RK    SQUARE_FT  \\\n",
       "0     Owner                   0     0        2       BHK  1300.236407   \n",
       "1    Dealer                   0     0        2       BHK  1275.000000   \n",
       "2     Owner                   0     0        2       BHK   933.159722   \n",
       "3     Owner                   0     1        2       BHK   929.921143   \n",
       "4    Dealer                   1     0        2       BHK   999.009247   \n",
       "\n",
       "   READY_TO_MOVE  RESALE  LONGITUDE   LATITUDE  \n",
       "0              1       1  12.969910  77.597960  \n",
       "1              1       1  12.274538  76.644605  \n",
       "2              1       1  12.778033  77.632191  \n",
       "3              1       1  28.642300  77.344500  \n",
       "4              0       1  22.592200  88.484911  "
      ]
     },
     "execution_count": 11,
     "metadata": {},
     "output_type": "execute_result"
    }
   ],
   "source": [
    "X.head()"
   ]
  },
  {
   "cell_type": "code",
   "execution_count": 12,
   "id": "36a8e9fd",
   "metadata": {
    "execution": {
     "iopub.execute_input": "2021-08-29T14:50:06.282904Z",
     "iopub.status.busy": "2021-08-29T14:50:06.282233Z",
     "iopub.status.idle": "2021-08-29T14:50:06.286210Z",
     "shell.execute_reply": "2021-08-29T14:50:06.285352Z",
     "shell.execute_reply.started": "2021-08-29T14:43:41.371620Z"
    },
    "papermill": {
     "duration": 0.036743,
     "end_time": "2021-08-29T14:50:06.286414",
     "exception": false,
     "start_time": "2021-08-29T14:50:06.249671",
     "status": "completed"
    },
    "tags": []
   },
   "outputs": [],
   "source": [
    "y = HPP['TARGET(PRICE_IN_LACS)']"
   ]
  },
  {
   "cell_type": "code",
   "execution_count": 13,
   "id": "a8778227",
   "metadata": {
    "execution": {
     "iopub.execute_input": "2021-08-29T14:50:06.361582Z",
     "iopub.status.busy": "2021-08-29T14:50:06.360612Z",
     "iopub.status.idle": "2021-08-29T14:50:07.274561Z",
     "shell.execute_reply": "2021-08-29T14:50:07.275085Z",
     "shell.execute_reply.started": "2021-08-29T14:43:41.377814Z"
    },
    "papermill": {
     "duration": 0.952187,
     "end_time": "2021-08-29T14:50:07.275257",
     "exception": false,
     "start_time": "2021-08-29T14:50:06.323070",
     "status": "completed"
    },
    "tags": []
   },
   "outputs": [
    {
     "data": {
      "text/html": [
       "<div>\n",
       "<style scoped>\n",
       "    .dataframe tbody tr th:only-of-type {\n",
       "        vertical-align: middle;\n",
       "    }\n",
       "\n",
       "    .dataframe tbody tr th {\n",
       "        vertical-align: top;\n",
       "    }\n",
       "\n",
       "    .dataframe thead th {\n",
       "        text-align: right;\n",
       "    }\n",
       "</style>\n",
       "<table border=\"1\" class=\"dataframe\">\n",
       "  <thead>\n",
       "    <tr style=\"text-align: right;\">\n",
       "      <th></th>\n",
       "      <th>0</th>\n",
       "      <th>1</th>\n",
       "    </tr>\n",
       "  </thead>\n",
       "  <tbody>\n",
       "    <tr>\n",
       "      <th>0</th>\n",
       "      <td>0.0</td>\n",
       "      <td>1.0</td>\n",
       "    </tr>\n",
       "    <tr>\n",
       "      <th>1</th>\n",
       "      <td>1.0</td>\n",
       "      <td>0.0</td>\n",
       "    </tr>\n",
       "    <tr>\n",
       "      <th>2</th>\n",
       "      <td>0.0</td>\n",
       "      <td>1.0</td>\n",
       "    </tr>\n",
       "    <tr>\n",
       "      <th>3</th>\n",
       "      <td>0.0</td>\n",
       "      <td>1.0</td>\n",
       "    </tr>\n",
       "    <tr>\n",
       "      <th>4</th>\n",
       "      <td>1.0</td>\n",
       "      <td>0.0</td>\n",
       "    </tr>\n",
       "  </tbody>\n",
       "</table>\n",
       "</div>"
      ],
      "text/plain": [
       "     0    1\n",
       "0  0.0  1.0\n",
       "1  1.0  0.0\n",
       "2  0.0  1.0\n",
       "3  0.0  1.0\n",
       "4  1.0  0.0"
      ]
     },
     "execution_count": 13,
     "metadata": {},
     "output_type": "execute_result"
    }
   ],
   "source": [
    "from sklearn.preprocessing import OneHotEncoder\n",
    "\n",
    "encoder = OneHotEncoder(sparse = False, handle_unknown = 'error', drop = 'first')\n",
    "PB = np.array(X['POSTED_BY'])\n",
    "PB = PB.reshape(-1, 1)\n",
    "PB_df = pd.DataFrame(encoder.fit_transform(PB))\n",
    "PB_df.head()"
   ]
  },
  {
   "cell_type": "code",
   "execution_count": 14,
   "id": "d71ce64e",
   "metadata": {
    "execution": {
     "iopub.execute_input": "2021-08-29T14:50:07.355148Z",
     "iopub.status.busy": "2021-08-29T14:50:07.354259Z",
     "iopub.status.idle": "2021-08-29T14:50:07.394521Z",
     "shell.execute_reply": "2021-08-29T14:50:07.395294Z",
     "shell.execute_reply.started": "2021-08-29T14:43:41.416861Z"
    },
    "papermill": {
     "duration": 0.086882,
     "end_time": "2021-08-29T14:50:07.395571",
     "exception": false,
     "start_time": "2021-08-29T14:50:07.308689",
     "status": "completed"
    },
    "tags": []
   },
   "outputs": [
    {
     "data": {
      "text/html": [
       "<div>\n",
       "<style scoped>\n",
       "    .dataframe tbody tr th:only-of-type {\n",
       "        vertical-align: middle;\n",
       "    }\n",
       "\n",
       "    .dataframe tbody tr th {\n",
       "        vertical-align: top;\n",
       "    }\n",
       "\n",
       "    .dataframe thead th {\n",
       "        text-align: right;\n",
       "    }\n",
       "</style>\n",
       "<table border=\"1\" class=\"dataframe\">\n",
       "  <thead>\n",
       "    <tr style=\"text-align: right;\">\n",
       "      <th></th>\n",
       "      <th>UNDER_CONSTRUCTION</th>\n",
       "      <th>RERA</th>\n",
       "      <th>BHK_NO.</th>\n",
       "      <th>BHK_OR_RK</th>\n",
       "      <th>SQUARE_FT</th>\n",
       "      <th>READY_TO_MOVE</th>\n",
       "      <th>RESALE</th>\n",
       "      <th>LONGITUDE</th>\n",
       "      <th>LATITUDE</th>\n",
       "      <th>0</th>\n",
       "      <th>1</th>\n",
       "    </tr>\n",
       "  </thead>\n",
       "  <tbody>\n",
       "    <tr>\n",
       "      <th>0</th>\n",
       "      <td>0</td>\n",
       "      <td>0</td>\n",
       "      <td>2</td>\n",
       "      <td>BHK</td>\n",
       "      <td>1300.236407</td>\n",
       "      <td>1</td>\n",
       "      <td>1</td>\n",
       "      <td>12.969910</td>\n",
       "      <td>77.597960</td>\n",
       "      <td>0.0</td>\n",
       "      <td>1.0</td>\n",
       "    </tr>\n",
       "    <tr>\n",
       "      <th>1</th>\n",
       "      <td>0</td>\n",
       "      <td>0</td>\n",
       "      <td>2</td>\n",
       "      <td>BHK</td>\n",
       "      <td>1275.000000</td>\n",
       "      <td>1</td>\n",
       "      <td>1</td>\n",
       "      <td>12.274538</td>\n",
       "      <td>76.644605</td>\n",
       "      <td>1.0</td>\n",
       "      <td>0.0</td>\n",
       "    </tr>\n",
       "    <tr>\n",
       "      <th>2</th>\n",
       "      <td>0</td>\n",
       "      <td>0</td>\n",
       "      <td>2</td>\n",
       "      <td>BHK</td>\n",
       "      <td>933.159722</td>\n",
       "      <td>1</td>\n",
       "      <td>1</td>\n",
       "      <td>12.778033</td>\n",
       "      <td>77.632191</td>\n",
       "      <td>0.0</td>\n",
       "      <td>1.0</td>\n",
       "    </tr>\n",
       "    <tr>\n",
       "      <th>3</th>\n",
       "      <td>0</td>\n",
       "      <td>1</td>\n",
       "      <td>2</td>\n",
       "      <td>BHK</td>\n",
       "      <td>929.921143</td>\n",
       "      <td>1</td>\n",
       "      <td>1</td>\n",
       "      <td>28.642300</td>\n",
       "      <td>77.344500</td>\n",
       "      <td>0.0</td>\n",
       "      <td>1.0</td>\n",
       "    </tr>\n",
       "    <tr>\n",
       "      <th>4</th>\n",
       "      <td>1</td>\n",
       "      <td>0</td>\n",
       "      <td>2</td>\n",
       "      <td>BHK</td>\n",
       "      <td>999.009247</td>\n",
       "      <td>0</td>\n",
       "      <td>1</td>\n",
       "      <td>22.592200</td>\n",
       "      <td>88.484911</td>\n",
       "      <td>1.0</td>\n",
       "      <td>0.0</td>\n",
       "    </tr>\n",
       "  </tbody>\n",
       "</table>\n",
       "</div>"
      ],
      "text/plain": [
       "   UNDER_CONSTRUCTION  RERA  BHK_NO. BHK_OR_RK    SQUARE_FT  READY_TO_MOVE  \\\n",
       "0                   0     0        2       BHK  1300.236407              1   \n",
       "1                   0     0        2       BHK  1275.000000              1   \n",
       "2                   0     0        2       BHK   933.159722              1   \n",
       "3                   0     1        2       BHK   929.921143              1   \n",
       "4                   1     0        2       BHK   999.009247              0   \n",
       "\n",
       "   RESALE  LONGITUDE   LATITUDE    0    1  \n",
       "0       1  12.969910  77.597960  0.0  1.0  \n",
       "1       1  12.274538  76.644605  1.0  0.0  \n",
       "2       1  12.778033  77.632191  0.0  1.0  \n",
       "3       1  28.642300  77.344500  0.0  1.0  \n",
       "4       1  22.592200  88.484911  1.0  0.0  "
      ]
     },
     "execution_count": 14,
     "metadata": {},
     "output_type": "execute_result"
    }
   ],
   "source": [
    "X = X.join(PB_df)\n",
    "X.drop('POSTED_BY', inplace = True, axis = 1)\n",
    "X.head()"
   ]
  },
  {
   "cell_type": "code",
   "execution_count": 15,
   "id": "f8265ee1",
   "metadata": {
    "execution": {
     "iopub.execute_input": "2021-08-29T14:50:07.463385Z",
     "iopub.status.busy": "2021-08-29T14:50:07.461767Z",
     "iopub.status.idle": "2021-08-29T14:50:07.473213Z",
     "shell.execute_reply": "2021-08-29T14:50:07.472690Z",
     "shell.execute_reply.started": "2021-08-29T14:43:41.451898Z"
    },
    "papermill": {
     "duration": 0.045537,
     "end_time": "2021-08-29T14:50:07.473355",
     "exception": false,
     "start_time": "2021-08-29T14:50:07.427818",
     "status": "completed"
    },
    "tags": []
   },
   "outputs": [],
   "source": [
    "BHRK = pd.get_dummies(X['BHK_OR_RK'], prefix = 'B', drop_first = True)\n",
    "X = pd.concat([X,BHRK], axis = 1)"
   ]
  },
  {
   "cell_type": "code",
   "execution_count": 16,
   "id": "2faea20e",
   "metadata": {
    "execution": {
     "iopub.execute_input": "2021-08-29T14:50:07.538917Z",
     "iopub.status.busy": "2021-08-29T14:50:07.538097Z",
     "iopub.status.idle": "2021-08-29T14:50:07.542157Z",
     "shell.execute_reply": "2021-08-29T14:50:07.541671Z",
     "shell.execute_reply.started": "2021-08-29T14:43:41.469194Z"
    },
    "papermill": {
     "duration": 0.040475,
     "end_time": "2021-08-29T14:50:07.542297",
     "exception": false,
     "start_time": "2021-08-29T14:50:07.501822",
     "status": "completed"
    },
    "tags": []
   },
   "outputs": [
    {
     "data": {
      "text/html": [
       "<div>\n",
       "<style scoped>\n",
       "    .dataframe tbody tr th:only-of-type {\n",
       "        vertical-align: middle;\n",
       "    }\n",
       "\n",
       "    .dataframe tbody tr th {\n",
       "        vertical-align: top;\n",
       "    }\n",
       "\n",
       "    .dataframe thead th {\n",
       "        text-align: right;\n",
       "    }\n",
       "</style>\n",
       "<table border=\"1\" class=\"dataframe\">\n",
       "  <thead>\n",
       "    <tr style=\"text-align: right;\">\n",
       "      <th></th>\n",
       "      <th>B_RK</th>\n",
       "    </tr>\n",
       "  </thead>\n",
       "  <tbody>\n",
       "    <tr>\n",
       "      <th>0</th>\n",
       "      <td>0</td>\n",
       "    </tr>\n",
       "    <tr>\n",
       "      <th>1</th>\n",
       "      <td>0</td>\n",
       "    </tr>\n",
       "    <tr>\n",
       "      <th>2</th>\n",
       "      <td>0</td>\n",
       "    </tr>\n",
       "    <tr>\n",
       "      <th>3</th>\n",
       "      <td>0</td>\n",
       "    </tr>\n",
       "    <tr>\n",
       "      <th>4</th>\n",
       "      <td>0</td>\n",
       "    </tr>\n",
       "  </tbody>\n",
       "</table>\n",
       "</div>"
      ],
      "text/plain": [
       "   B_RK\n",
       "0     0\n",
       "1     0\n",
       "2     0\n",
       "3     0\n",
       "4     0"
      ]
     },
     "execution_count": 16,
     "metadata": {},
     "output_type": "execute_result"
    }
   ],
   "source": [
    "BHRK.head()"
   ]
  },
  {
   "cell_type": "code",
   "execution_count": 17,
   "id": "1e671c8f",
   "metadata": {
    "execution": {
     "iopub.execute_input": "2021-08-29T14:50:07.605274Z",
     "iopub.status.busy": "2021-08-29T14:50:07.604299Z",
     "iopub.status.idle": "2021-08-29T14:50:07.615545Z",
     "shell.execute_reply": "2021-08-29T14:50:07.616297Z",
     "shell.execute_reply.started": "2021-08-29T14:43:41.483776Z"
    },
    "papermill": {
     "duration": 0.045348,
     "end_time": "2021-08-29T14:50:07.616531",
     "exception": false,
     "start_time": "2021-08-29T14:50:07.571183",
     "status": "completed"
    },
    "tags": []
   },
   "outputs": [
    {
     "name": "stdout",
     "output_type": "stream",
     "text": [
      "<class 'pandas.core.frame.DataFrame'>\n",
      "RangeIndex: 29451 entries, 0 to 29450\n",
      "Data columns (total 1 columns):\n",
      " #   Column  Non-Null Count  Dtype\n",
      "---  ------  --------------  -----\n",
      " 0   B_RK    29451 non-null  uint8\n",
      "dtypes: uint8(1)\n",
      "memory usage: 28.9 KB\n"
     ]
    }
   ],
   "source": [
    "BHRK.info()"
   ]
  },
  {
   "cell_type": "code",
   "execution_count": 18,
   "id": "59083812",
   "metadata": {
    "execution": {
     "iopub.execute_input": "2021-08-29T14:50:07.679007Z",
     "iopub.status.busy": "2021-08-29T14:50:07.678364Z",
     "iopub.status.idle": "2021-08-29T14:50:07.694059Z",
     "shell.execute_reply": "2021-08-29T14:50:07.694501Z",
     "shell.execute_reply.started": "2021-08-29T14:43:41.509420Z"
    },
    "papermill": {
     "duration": 0.047992,
     "end_time": "2021-08-29T14:50:07.694698",
     "exception": false,
     "start_time": "2021-08-29T14:50:07.646706",
     "status": "completed"
    },
    "tags": []
   },
   "outputs": [
    {
     "data": {
      "text/html": [
       "<div>\n",
       "<style scoped>\n",
       "    .dataframe tbody tr th:only-of-type {\n",
       "        vertical-align: middle;\n",
       "    }\n",
       "\n",
       "    .dataframe tbody tr th {\n",
       "        vertical-align: top;\n",
       "    }\n",
       "\n",
       "    .dataframe thead th {\n",
       "        text-align: right;\n",
       "    }\n",
       "</style>\n",
       "<table border=\"1\" class=\"dataframe\">\n",
       "  <thead>\n",
       "    <tr style=\"text-align: right;\">\n",
       "      <th></th>\n",
       "      <th>UNDER_CONSTRUCTION</th>\n",
       "      <th>RERA</th>\n",
       "      <th>BHK_NO.</th>\n",
       "      <th>BHK_OR_RK</th>\n",
       "      <th>SQUARE_FT</th>\n",
       "      <th>READY_TO_MOVE</th>\n",
       "      <th>RESALE</th>\n",
       "      <th>LONGITUDE</th>\n",
       "      <th>LATITUDE</th>\n",
       "      <th>0</th>\n",
       "      <th>1</th>\n",
       "      <th>B_RK</th>\n",
       "    </tr>\n",
       "  </thead>\n",
       "  <tbody>\n",
       "    <tr>\n",
       "      <th>0</th>\n",
       "      <td>0</td>\n",
       "      <td>0</td>\n",
       "      <td>2</td>\n",
       "      <td>BHK</td>\n",
       "      <td>1300.236407</td>\n",
       "      <td>1</td>\n",
       "      <td>1</td>\n",
       "      <td>12.969910</td>\n",
       "      <td>77.597960</td>\n",
       "      <td>0.0</td>\n",
       "      <td>1.0</td>\n",
       "      <td>0</td>\n",
       "    </tr>\n",
       "    <tr>\n",
       "      <th>1</th>\n",
       "      <td>0</td>\n",
       "      <td>0</td>\n",
       "      <td>2</td>\n",
       "      <td>BHK</td>\n",
       "      <td>1275.000000</td>\n",
       "      <td>1</td>\n",
       "      <td>1</td>\n",
       "      <td>12.274538</td>\n",
       "      <td>76.644605</td>\n",
       "      <td>1.0</td>\n",
       "      <td>0.0</td>\n",
       "      <td>0</td>\n",
       "    </tr>\n",
       "    <tr>\n",
       "      <th>2</th>\n",
       "      <td>0</td>\n",
       "      <td>0</td>\n",
       "      <td>2</td>\n",
       "      <td>BHK</td>\n",
       "      <td>933.159722</td>\n",
       "      <td>1</td>\n",
       "      <td>1</td>\n",
       "      <td>12.778033</td>\n",
       "      <td>77.632191</td>\n",
       "      <td>0.0</td>\n",
       "      <td>1.0</td>\n",
       "      <td>0</td>\n",
       "    </tr>\n",
       "    <tr>\n",
       "      <th>3</th>\n",
       "      <td>0</td>\n",
       "      <td>1</td>\n",
       "      <td>2</td>\n",
       "      <td>BHK</td>\n",
       "      <td>929.921143</td>\n",
       "      <td>1</td>\n",
       "      <td>1</td>\n",
       "      <td>28.642300</td>\n",
       "      <td>77.344500</td>\n",
       "      <td>0.0</td>\n",
       "      <td>1.0</td>\n",
       "      <td>0</td>\n",
       "    </tr>\n",
       "    <tr>\n",
       "      <th>4</th>\n",
       "      <td>1</td>\n",
       "      <td>0</td>\n",
       "      <td>2</td>\n",
       "      <td>BHK</td>\n",
       "      <td>999.009247</td>\n",
       "      <td>0</td>\n",
       "      <td>1</td>\n",
       "      <td>22.592200</td>\n",
       "      <td>88.484911</td>\n",
       "      <td>1.0</td>\n",
       "      <td>0.0</td>\n",
       "      <td>0</td>\n",
       "    </tr>\n",
       "  </tbody>\n",
       "</table>\n",
       "</div>"
      ],
      "text/plain": [
       "   UNDER_CONSTRUCTION  RERA  BHK_NO. BHK_OR_RK    SQUARE_FT  READY_TO_MOVE  \\\n",
       "0                   0     0        2       BHK  1300.236407              1   \n",
       "1                   0     0        2       BHK  1275.000000              1   \n",
       "2                   0     0        2       BHK   933.159722              1   \n",
       "3                   0     1        2       BHK   929.921143              1   \n",
       "4                   1     0        2       BHK   999.009247              0   \n",
       "\n",
       "   RESALE  LONGITUDE   LATITUDE    0    1  B_RK  \n",
       "0       1  12.969910  77.597960  0.0  1.0     0  \n",
       "1       1  12.274538  76.644605  1.0  0.0     0  \n",
       "2       1  12.778033  77.632191  0.0  1.0     0  \n",
       "3       1  28.642300  77.344500  0.0  1.0     0  \n",
       "4       1  22.592200  88.484911  1.0  0.0     0  "
      ]
     },
     "execution_count": 18,
     "metadata": {},
     "output_type": "execute_result"
    }
   ],
   "source": [
    "X.head()"
   ]
  },
  {
   "cell_type": "code",
   "execution_count": 19,
   "id": "614da790",
   "metadata": {
    "execution": {
     "iopub.execute_input": "2021-08-29T14:50:07.762913Z",
     "iopub.status.busy": "2021-08-29T14:50:07.761826Z",
     "iopub.status.idle": "2021-08-29T14:50:07.767421Z",
     "shell.execute_reply": "2021-08-29T14:50:07.766858Z",
     "shell.execute_reply.started": "2021-08-29T14:43:41.535757Z"
    },
    "papermill": {
     "duration": 0.04296,
     "end_time": "2021-08-29T14:50:07.767560",
     "exception": false,
     "start_time": "2021-08-29T14:50:07.724600",
     "status": "completed"
    },
    "tags": []
   },
   "outputs": [
    {
     "data": {
      "text/plain": [
       "array([0, 1], dtype=uint8)"
      ]
     },
     "execution_count": 19,
     "metadata": {},
     "output_type": "execute_result"
    }
   ],
   "source": [
    "X['B_RK'].unique()"
   ]
  },
  {
   "cell_type": "code",
   "execution_count": 20,
   "id": "91ae1bd9",
   "metadata": {
    "execution": {
     "iopub.execute_input": "2021-08-29T14:50:07.833731Z",
     "iopub.status.busy": "2021-08-29T14:50:07.832721Z",
     "iopub.status.idle": "2021-08-29T14:50:07.839218Z",
     "shell.execute_reply": "2021-08-29T14:50:07.838697Z",
     "shell.execute_reply.started": "2021-08-29T14:43:41.553030Z"
    },
    "papermill": {
     "duration": 0.041631,
     "end_time": "2021-08-29T14:50:07.839364",
     "exception": false,
     "start_time": "2021-08-29T14:50:07.797733",
     "status": "completed"
    },
    "tags": []
   },
   "outputs": [
    {
     "data": {
      "text/plain": [
       "0    29427\n",
       "1       24\n",
       "Name: B_RK, dtype: int64"
      ]
     },
     "execution_count": 20,
     "metadata": {},
     "output_type": "execute_result"
    }
   ],
   "source": [
    "X['B_RK'].value_counts()"
   ]
  },
  {
   "cell_type": "code",
   "execution_count": 21,
   "id": "0acfceb1",
   "metadata": {
    "execution": {
     "iopub.execute_input": "2021-08-29T14:50:07.905006Z",
     "iopub.status.busy": "2021-08-29T14:50:07.904372Z",
     "iopub.status.idle": "2021-08-29T14:50:07.912339Z",
     "shell.execute_reply": "2021-08-29T14:50:07.911805Z",
     "shell.execute_reply.started": "2021-08-29T14:43:41.567067Z"
    },
    "papermill": {
     "duration": 0.042763,
     "end_time": "2021-08-29T14:50:07.912484",
     "exception": false,
     "start_time": "2021-08-29T14:50:07.869721",
     "status": "completed"
    },
    "tags": []
   },
   "outputs": [],
   "source": [
    "X.drop('BHK_OR_RK', inplace = True, axis = 1)"
   ]
  },
  {
   "cell_type": "code",
   "execution_count": 22,
   "id": "60a212c9",
   "metadata": {
    "execution": {
     "iopub.execute_input": "2021-08-29T14:50:07.988397Z",
     "iopub.status.busy": "2021-08-29T14:50:07.987725Z",
     "iopub.status.idle": "2021-08-29T14:50:07.990712Z",
     "shell.execute_reply": "2021-08-29T14:50:07.991298Z",
     "shell.execute_reply.started": "2021-08-29T14:43:41.580898Z"
    },
    "papermill": {
     "duration": 0.048228,
     "end_time": "2021-08-29T14:50:07.991467",
     "exception": false,
     "start_time": "2021-08-29T14:50:07.943239",
     "status": "completed"
    },
    "tags": []
   },
   "outputs": [
    {
     "data": {
      "text/html": [
       "<div>\n",
       "<style scoped>\n",
       "    .dataframe tbody tr th:only-of-type {\n",
       "        vertical-align: middle;\n",
       "    }\n",
       "\n",
       "    .dataframe tbody tr th {\n",
       "        vertical-align: top;\n",
       "    }\n",
       "\n",
       "    .dataframe thead th {\n",
       "        text-align: right;\n",
       "    }\n",
       "</style>\n",
       "<table border=\"1\" class=\"dataframe\">\n",
       "  <thead>\n",
       "    <tr style=\"text-align: right;\">\n",
       "      <th></th>\n",
       "      <th>UNDER_CONSTRUCTION</th>\n",
       "      <th>RERA</th>\n",
       "      <th>BHK_NO.</th>\n",
       "      <th>SQUARE_FT</th>\n",
       "      <th>READY_TO_MOVE</th>\n",
       "      <th>RESALE</th>\n",
       "      <th>LONGITUDE</th>\n",
       "      <th>LATITUDE</th>\n",
       "      <th>0</th>\n",
       "      <th>1</th>\n",
       "      <th>B_RK</th>\n",
       "    </tr>\n",
       "  </thead>\n",
       "  <tbody>\n",
       "    <tr>\n",
       "      <th>0</th>\n",
       "      <td>0</td>\n",
       "      <td>0</td>\n",
       "      <td>2</td>\n",
       "      <td>1300.236407</td>\n",
       "      <td>1</td>\n",
       "      <td>1</td>\n",
       "      <td>12.969910</td>\n",
       "      <td>77.597960</td>\n",
       "      <td>0.0</td>\n",
       "      <td>1.0</td>\n",
       "      <td>0</td>\n",
       "    </tr>\n",
       "    <tr>\n",
       "      <th>1</th>\n",
       "      <td>0</td>\n",
       "      <td>0</td>\n",
       "      <td>2</td>\n",
       "      <td>1275.000000</td>\n",
       "      <td>1</td>\n",
       "      <td>1</td>\n",
       "      <td>12.274538</td>\n",
       "      <td>76.644605</td>\n",
       "      <td>1.0</td>\n",
       "      <td>0.0</td>\n",
       "      <td>0</td>\n",
       "    </tr>\n",
       "    <tr>\n",
       "      <th>2</th>\n",
       "      <td>0</td>\n",
       "      <td>0</td>\n",
       "      <td>2</td>\n",
       "      <td>933.159722</td>\n",
       "      <td>1</td>\n",
       "      <td>1</td>\n",
       "      <td>12.778033</td>\n",
       "      <td>77.632191</td>\n",
       "      <td>0.0</td>\n",
       "      <td>1.0</td>\n",
       "      <td>0</td>\n",
       "    </tr>\n",
       "    <tr>\n",
       "      <th>3</th>\n",
       "      <td>0</td>\n",
       "      <td>1</td>\n",
       "      <td>2</td>\n",
       "      <td>929.921143</td>\n",
       "      <td>1</td>\n",
       "      <td>1</td>\n",
       "      <td>28.642300</td>\n",
       "      <td>77.344500</td>\n",
       "      <td>0.0</td>\n",
       "      <td>1.0</td>\n",
       "      <td>0</td>\n",
       "    </tr>\n",
       "    <tr>\n",
       "      <th>4</th>\n",
       "      <td>1</td>\n",
       "      <td>0</td>\n",
       "      <td>2</td>\n",
       "      <td>999.009247</td>\n",
       "      <td>0</td>\n",
       "      <td>1</td>\n",
       "      <td>22.592200</td>\n",
       "      <td>88.484911</td>\n",
       "      <td>1.0</td>\n",
       "      <td>0.0</td>\n",
       "      <td>0</td>\n",
       "    </tr>\n",
       "  </tbody>\n",
       "</table>\n",
       "</div>"
      ],
      "text/plain": [
       "   UNDER_CONSTRUCTION  RERA  BHK_NO.    SQUARE_FT  READY_TO_MOVE  RESALE  \\\n",
       "0                   0     0        2  1300.236407              1       1   \n",
       "1                   0     0        2  1275.000000              1       1   \n",
       "2                   0     0        2   933.159722              1       1   \n",
       "3                   0     1        2   929.921143              1       1   \n",
       "4                   1     0        2   999.009247              0       1   \n",
       "\n",
       "   LONGITUDE   LATITUDE    0    1  B_RK  \n",
       "0  12.969910  77.597960  0.0  1.0     0  \n",
       "1  12.274538  76.644605  1.0  0.0     0  \n",
       "2  12.778033  77.632191  0.0  1.0     0  \n",
       "3  28.642300  77.344500  0.0  1.0     0  \n",
       "4  22.592200  88.484911  1.0  0.0     0  "
      ]
     },
     "execution_count": 22,
     "metadata": {},
     "output_type": "execute_result"
    }
   ],
   "source": [
    "X.head()"
   ]
  },
  {
   "cell_type": "code",
   "execution_count": 23,
   "id": "da944f4a",
   "metadata": {
    "execution": {
     "iopub.execute_input": "2021-08-29T14:50:08.057390Z",
     "iopub.status.busy": "2021-08-29T14:50:08.056796Z",
     "iopub.status.idle": "2021-08-29T14:50:08.061259Z",
     "shell.execute_reply": "2021-08-29T14:50:08.060745Z",
     "shell.execute_reply.started": "2021-08-29T14:43:41.608226Z"
    },
    "papermill": {
     "duration": 0.038853,
     "end_time": "2021-08-29T14:50:08.061393",
     "exception": false,
     "start_time": "2021-08-29T14:50:08.022540",
     "status": "completed"
    },
    "tags": []
   },
   "outputs": [],
   "source": [
    "from sklearn.preprocessing import StandardScaler, MinMaxScaler"
   ]
  },
  {
   "cell_type": "code",
   "execution_count": 24,
   "id": "98da99c2",
   "metadata": {
    "execution": {
     "iopub.execute_input": "2021-08-29T14:50:08.129775Z",
     "iopub.status.busy": "2021-08-29T14:50:08.129140Z",
     "iopub.status.idle": "2021-08-29T14:50:08.133783Z",
     "shell.execute_reply": "2021-08-29T14:50:08.133257Z",
     "shell.execute_reply.started": "2021-08-29T14:43:41.616580Z"
    },
    "papermill": {
     "duration": 0.041263,
     "end_time": "2021-08-29T14:50:08.133924",
     "exception": false,
     "start_time": "2021-08-29T14:50:08.092661",
     "status": "completed"
    },
    "tags": []
   },
   "outputs": [],
   "source": [
    "scaler = StandardScaler()\n",
    "\n",
    "k = np.array(X['SQUARE_FT'])\n",
    "k= k.reshape(-1, 1)\n",
    "K = scaler.fit_transform(k)\n",
    "\n",
    "X['SQUARE_FT'] = K"
   ]
  },
  {
   "cell_type": "code",
   "execution_count": 25,
   "id": "18796152",
   "metadata": {
    "execution": {
     "iopub.execute_input": "2021-08-29T14:50:08.205351Z",
     "iopub.status.busy": "2021-08-29T14:50:08.204645Z",
     "iopub.status.idle": "2021-08-29T14:50:08.213871Z",
     "shell.execute_reply": "2021-08-29T14:50:08.214406Z",
     "shell.execute_reply.started": "2021-08-29T14:43:41.633043Z"
    },
    "papermill": {
     "duration": 0.049601,
     "end_time": "2021-08-29T14:50:08.214571",
     "exception": false,
     "start_time": "2021-08-29T14:50:08.164970",
     "status": "completed"
    },
    "tags": []
   },
   "outputs": [
    {
     "data": {
      "text/html": [
       "<div>\n",
       "<style scoped>\n",
       "    .dataframe tbody tr th:only-of-type {\n",
       "        vertical-align: middle;\n",
       "    }\n",
       "\n",
       "    .dataframe tbody tr th {\n",
       "        vertical-align: top;\n",
       "    }\n",
       "\n",
       "    .dataframe thead th {\n",
       "        text-align: right;\n",
       "    }\n",
       "</style>\n",
       "<table border=\"1\" class=\"dataframe\">\n",
       "  <thead>\n",
       "    <tr style=\"text-align: right;\">\n",
       "      <th></th>\n",
       "      <th>UNDER_CONSTRUCTION</th>\n",
       "      <th>RERA</th>\n",
       "      <th>BHK_NO.</th>\n",
       "      <th>SQUARE_FT</th>\n",
       "      <th>READY_TO_MOVE</th>\n",
       "      <th>RESALE</th>\n",
       "      <th>LONGITUDE</th>\n",
       "      <th>LATITUDE</th>\n",
       "      <th>0</th>\n",
       "      <th>1</th>\n",
       "      <th>B_RK</th>\n",
       "    </tr>\n",
       "  </thead>\n",
       "  <tbody>\n",
       "    <tr>\n",
       "      <th>0</th>\n",
       "      <td>0</td>\n",
       "      <td>0</td>\n",
       "      <td>2</td>\n",
       "      <td>-0.009731</td>\n",
       "      <td>1</td>\n",
       "      <td>1</td>\n",
       "      <td>12.969910</td>\n",
       "      <td>77.597960</td>\n",
       "      <td>0.0</td>\n",
       "      <td>1.0</td>\n",
       "      <td>0</td>\n",
       "    </tr>\n",
       "    <tr>\n",
       "      <th>1</th>\n",
       "      <td>0</td>\n",
       "      <td>0</td>\n",
       "      <td>2</td>\n",
       "      <td>-0.009744</td>\n",
       "      <td>1</td>\n",
       "      <td>1</td>\n",
       "      <td>12.274538</td>\n",
       "      <td>76.644605</td>\n",
       "      <td>1.0</td>\n",
       "      <td>0.0</td>\n",
       "      <td>0</td>\n",
       "    </tr>\n",
       "    <tr>\n",
       "      <th>2</th>\n",
       "      <td>0</td>\n",
       "      <td>0</td>\n",
       "      <td>2</td>\n",
       "      <td>-0.009924</td>\n",
       "      <td>1</td>\n",
       "      <td>1</td>\n",
       "      <td>12.778033</td>\n",
       "      <td>77.632191</td>\n",
       "      <td>0.0</td>\n",
       "      <td>1.0</td>\n",
       "      <td>0</td>\n",
       "    </tr>\n",
       "    <tr>\n",
       "      <th>3</th>\n",
       "      <td>0</td>\n",
       "      <td>1</td>\n",
       "      <td>2</td>\n",
       "      <td>-0.009926</td>\n",
       "      <td>1</td>\n",
       "      <td>1</td>\n",
       "      <td>28.642300</td>\n",
       "      <td>77.344500</td>\n",
       "      <td>0.0</td>\n",
       "      <td>1.0</td>\n",
       "      <td>0</td>\n",
       "    </tr>\n",
       "    <tr>\n",
       "      <th>4</th>\n",
       "      <td>1</td>\n",
       "      <td>0</td>\n",
       "      <td>2</td>\n",
       "      <td>-0.009890</td>\n",
       "      <td>0</td>\n",
       "      <td>1</td>\n",
       "      <td>22.592200</td>\n",
       "      <td>88.484911</td>\n",
       "      <td>1.0</td>\n",
       "      <td>0.0</td>\n",
       "      <td>0</td>\n",
       "    </tr>\n",
       "  </tbody>\n",
       "</table>\n",
       "</div>"
      ],
      "text/plain": [
       "   UNDER_CONSTRUCTION  RERA  BHK_NO.  SQUARE_FT  READY_TO_MOVE  RESALE  \\\n",
       "0                   0     0        2  -0.009731              1       1   \n",
       "1                   0     0        2  -0.009744              1       1   \n",
       "2                   0     0        2  -0.009924              1       1   \n",
       "3                   0     1        2  -0.009926              1       1   \n",
       "4                   1     0        2  -0.009890              0       1   \n",
       "\n",
       "   LONGITUDE   LATITUDE    0    1  B_RK  \n",
       "0  12.969910  77.597960  0.0  1.0     0  \n",
       "1  12.274538  76.644605  1.0  0.0     0  \n",
       "2  12.778033  77.632191  0.0  1.0     0  \n",
       "3  28.642300  77.344500  0.0  1.0     0  \n",
       "4  22.592200  88.484911  1.0  0.0     0  "
      ]
     },
     "execution_count": 25,
     "metadata": {},
     "output_type": "execute_result"
    }
   ],
   "source": [
    "X.head()"
   ]
  },
  {
   "cell_type": "code",
   "execution_count": 26,
   "id": "e2b1dce3",
   "metadata": {
    "execution": {
     "iopub.execute_input": "2021-08-29T14:50:08.280823Z",
     "iopub.status.busy": "2021-08-29T14:50:08.280195Z",
     "iopub.status.idle": "2021-08-29T14:50:08.286059Z",
     "shell.execute_reply": "2021-08-29T14:50:08.286573Z",
     "shell.execute_reply.started": "2021-08-29T14:43:41.655006Z"
    },
    "papermill": {
     "duration": 0.040221,
     "end_time": "2021-08-29T14:50:08.286782",
     "exception": false,
     "start_time": "2021-08-29T14:50:08.246561",
     "status": "completed"
    },
    "tags": []
   },
   "outputs": [],
   "source": [
    "k = np.array(X['LONGITUDE'])\n",
    "k= k.reshape(-1, 1)\n",
    "K = scaler.fit_transform(k)\n",
    "\n",
    "X['LONGITUDE'] = K"
   ]
  },
  {
   "cell_type": "code",
   "execution_count": 27,
   "id": "1b06a349",
   "metadata": {
    "execution": {
     "iopub.execute_input": "2021-08-29T14:50:08.352878Z",
     "iopub.status.busy": "2021-08-29T14:50:08.352264Z",
     "iopub.status.idle": "2021-08-29T14:50:08.359449Z",
     "shell.execute_reply": "2021-08-29T14:50:08.358900Z",
     "shell.execute_reply.started": "2021-08-29T14:43:41.665835Z"
    },
    "papermill": {
     "duration": 0.041247,
     "end_time": "2021-08-29T14:50:08.359586",
     "exception": false,
     "start_time": "2021-08-29T14:50:08.318339",
     "status": "completed"
    },
    "tags": []
   },
   "outputs": [],
   "source": [
    "k = np.array(X['LATITUDE'])\n",
    "k= k.reshape(-1, 1)\n",
    "K = scaler.fit_transform(k)\n",
    "\n",
    "X['LATITUDE'] = K"
   ]
  },
  {
   "cell_type": "code",
   "execution_count": 28,
   "id": "5a40b881",
   "metadata": {
    "execution": {
     "iopub.execute_input": "2021-08-29T14:50:08.442432Z",
     "iopub.status.busy": "2021-08-29T14:50:08.441472Z",
     "iopub.status.idle": "2021-08-29T14:50:08.445937Z",
     "shell.execute_reply": "2021-08-29T14:50:08.445424Z",
     "shell.execute_reply.started": "2021-08-29T14:43:41.679985Z"
    },
    "papermill": {
     "duration": 0.053196,
     "end_time": "2021-08-29T14:50:08.446083",
     "exception": false,
     "start_time": "2021-08-29T14:50:08.392887",
     "status": "completed"
    },
    "tags": []
   },
   "outputs": [
    {
     "data": {
      "text/html": [
       "<div>\n",
       "<style scoped>\n",
       "    .dataframe tbody tr th:only-of-type {\n",
       "        vertical-align: middle;\n",
       "    }\n",
       "\n",
       "    .dataframe tbody tr th {\n",
       "        vertical-align: top;\n",
       "    }\n",
       "\n",
       "    .dataframe thead th {\n",
       "        text-align: right;\n",
       "    }\n",
       "</style>\n",
       "<table border=\"1\" class=\"dataframe\">\n",
       "  <thead>\n",
       "    <tr style=\"text-align: right;\">\n",
       "      <th></th>\n",
       "      <th>UNDER_CONSTRUCTION</th>\n",
       "      <th>RERA</th>\n",
       "      <th>BHK_NO.</th>\n",
       "      <th>SQUARE_FT</th>\n",
       "      <th>READY_TO_MOVE</th>\n",
       "      <th>RESALE</th>\n",
       "      <th>LONGITUDE</th>\n",
       "      <th>LATITUDE</th>\n",
       "      <th>0</th>\n",
       "      <th>1</th>\n",
       "      <th>B_RK</th>\n",
       "    </tr>\n",
       "  </thead>\n",
       "  <tbody>\n",
       "    <tr>\n",
       "      <th>0</th>\n",
       "      <td>0</td>\n",
       "      <td>0</td>\n",
       "      <td>2</td>\n",
       "      <td>-0.009731</td>\n",
       "      <td>1</td>\n",
       "      <td>1</td>\n",
       "      <td>-1.342478</td>\n",
       "      <td>0.072011</td>\n",
       "      <td>0.0</td>\n",
       "      <td>1.0</td>\n",
       "      <td>0</td>\n",
       "    </tr>\n",
       "    <tr>\n",
       "      <th>1</th>\n",
       "      <td>0</td>\n",
       "      <td>0</td>\n",
       "      <td>2</td>\n",
       "      <td>-0.009744</td>\n",
       "      <td>1</td>\n",
       "      <td>1</td>\n",
       "      <td>-1.454541</td>\n",
       "      <td>-0.018289</td>\n",
       "      <td>1.0</td>\n",
       "      <td>0.0</td>\n",
       "      <td>0</td>\n",
       "    </tr>\n",
       "    <tr>\n",
       "      <th>2</th>\n",
       "      <td>0</td>\n",
       "      <td>0</td>\n",
       "      <td>2</td>\n",
       "      <td>-0.009924</td>\n",
       "      <td>1</td>\n",
       "      <td>1</td>\n",
       "      <td>-1.373400</td>\n",
       "      <td>0.075254</td>\n",
       "      <td>0.0</td>\n",
       "      <td>1.0</td>\n",
       "      <td>0</td>\n",
       "    </tr>\n",
       "    <tr>\n",
       "      <th>3</th>\n",
       "      <td>0</td>\n",
       "      <td>1</td>\n",
       "      <td>2</td>\n",
       "      <td>-0.009926</td>\n",
       "      <td>1</td>\n",
       "      <td>1</td>\n",
       "      <td>1.183208</td>\n",
       "      <td>0.048004</td>\n",
       "      <td>0.0</td>\n",
       "      <td>1.0</td>\n",
       "      <td>0</td>\n",
       "    </tr>\n",
       "    <tr>\n",
       "      <th>4</th>\n",
       "      <td>1</td>\n",
       "      <td>0</td>\n",
       "      <td>2</td>\n",
       "      <td>-0.009890</td>\n",
       "      <td>0</td>\n",
       "      <td>1</td>\n",
       "      <td>0.208204</td>\n",
       "      <td>1.103210</td>\n",
       "      <td>1.0</td>\n",
       "      <td>0.0</td>\n",
       "      <td>0</td>\n",
       "    </tr>\n",
       "  </tbody>\n",
       "</table>\n",
       "</div>"
      ],
      "text/plain": [
       "   UNDER_CONSTRUCTION  RERA  BHK_NO.  SQUARE_FT  READY_TO_MOVE  RESALE  \\\n",
       "0                   0     0        2  -0.009731              1       1   \n",
       "1                   0     0        2  -0.009744              1       1   \n",
       "2                   0     0        2  -0.009924              1       1   \n",
       "3                   0     1        2  -0.009926              1       1   \n",
       "4                   1     0        2  -0.009890              0       1   \n",
       "\n",
       "   LONGITUDE  LATITUDE    0    1  B_RK  \n",
       "0  -1.342478  0.072011  0.0  1.0     0  \n",
       "1  -1.454541 -0.018289  1.0  0.0     0  \n",
       "2  -1.373400  0.075254  0.0  1.0     0  \n",
       "3   1.183208  0.048004  0.0  1.0     0  \n",
       "4   0.208204  1.103210  1.0  0.0     0  "
      ]
     },
     "execution_count": 28,
     "metadata": {},
     "output_type": "execute_result"
    }
   ],
   "source": [
    "X.head()"
   ]
  },
  {
   "cell_type": "code",
   "execution_count": 29,
   "id": "7b6f1a86",
   "metadata": {
    "execution": {
     "iopub.execute_input": "2021-08-29T14:50:08.518040Z",
     "iopub.status.busy": "2021-08-29T14:50:08.517339Z",
     "iopub.status.idle": "2021-08-29T14:50:43.331112Z",
     "shell.execute_reply": "2021-08-29T14:50:43.330574Z",
     "shell.execute_reply.started": "2021-08-29T14:43:41.703428Z"
    },
    "papermill": {
     "duration": 34.85198,
     "end_time": "2021-08-29T14:50:43.331257",
     "exception": false,
     "start_time": "2021-08-29T14:50:08.479277",
     "status": "completed"
    },
    "tags": []
   },
   "outputs": [
    {
     "name": "stdout",
     "output_type": "stream",
     "text": [
      "1 0.5881840430199349\n",
      "2 0.598286285992049\n",
      "3 0.5591709196906812\n",
      "4 0.5152400808833554\n",
      "5 0.47976706866781677\n",
      "6 0.43743716088105067\n",
      "7 0.4116571394042988\n",
      "8 0.3867536659337788\n",
      "9 0.3624866184159075\n",
      "10 0.3426556869797027\n",
      "11 0.3294685429129411\n",
      "12 0.31618560518029576\n",
      "13 0.30202381370486364\n",
      "14 0.28844782563058713\n",
      "15 0.2772320372291201\n",
      "16 0.2702130678332934\n",
      "17 0.2605981362273026\n",
      "18 0.25132428127945927\n",
      "19 0.2375984699159161\n"
     ]
    }
   ],
   "source": [
    "from sklearn.neighbors import KNeighborsRegressor\n",
    "from sklearn.model_selection import cross_val_score\n",
    "\n",
    "for i in range (1, 20):\n",
    "    model = KNeighborsRegressor(n_neighbors = i)\n",
    "    score = cross_val_score(model, X, y, cv = 5)\n",
    "    print(i, score.mean())"
   ]
  }
 ],
 "metadata": {
  "kernelspec": {
   "display_name": "Python 3",
   "language": "python",
   "name": "python3"
  },
  "language_info": {
   "codemirror_mode": {
    "name": "ipython",
    "version": 3
   },
   "file_extension": ".py",
   "mimetype": "text/x-python",
   "name": "python",
   "nbconvert_exporter": "python",
   "pygments_lexer": "ipython3",
   "version": "3.7.10"
  },
  "papermill": {
   "default_parameters": {},
   "duration": 47.774107,
   "end_time": "2021-08-29T14:50:44.839508",
   "environment_variables": {},
   "exception": null,
   "input_path": "__notebook__.ipynb",
   "output_path": "__notebook__.ipynb",
   "parameters": {},
   "start_time": "2021-08-29T14:49:57.065401",
   "version": "2.3.3"
  }
 },
 "nbformat": 4,
 "nbformat_minor": 5
}
