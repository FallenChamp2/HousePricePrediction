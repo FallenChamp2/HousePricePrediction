{
 "cells": [
  {
   "cell_type": "code",
   "execution_count": 1,
   "id": "2c510fd0",
   "metadata": {
    "execution": {
     "iopub.execute_input": "2021-08-27T08:29:40.513667Z",
     "iopub.status.busy": "2021-08-27T08:29:40.513056Z",
     "iopub.status.idle": "2021-08-27T08:29:40.736817Z",
     "shell.execute_reply": "2021-08-27T08:29:40.736165Z",
     "shell.execute_reply.started": "2021-08-27T08:23:35.797654Z"
    },
    "papermill": {
     "duration": 0.2635,
     "end_time": "2021-08-27T08:29:40.737019",
     "exception": false,
     "start_time": "2021-08-27T08:29:40.473519",
     "status": "completed"
    },
    "tags": []
   },
   "outputs": [
    {
     "data": {
      "text/html": [
       "<div>\n",
       "<style scoped>\n",
       "    .dataframe tbody tr th:only-of-type {\n",
       "        vertical-align: middle;\n",
       "    }\n",
       "\n",
       "    .dataframe tbody tr th {\n",
       "        vertical-align: top;\n",
       "    }\n",
       "\n",
       "    .dataframe thead th {\n",
       "        text-align: right;\n",
       "    }\n",
       "</style>\n",
       "<table border=\"1\" class=\"dataframe\">\n",
       "  <thead>\n",
       "    <tr style=\"text-align: right;\">\n",
       "      <th></th>\n",
       "      <th>POSTED_BY</th>\n",
       "      <th>UNDER_CONSTRUCTION</th>\n",
       "      <th>RERA</th>\n",
       "      <th>BHK_NO.</th>\n",
       "      <th>BHK_OR_RK</th>\n",
       "      <th>SQUARE_FT</th>\n",
       "      <th>READY_TO_MOVE</th>\n",
       "      <th>RESALE</th>\n",
       "      <th>ADDRESS</th>\n",
       "      <th>LONGITUDE</th>\n",
       "      <th>LATITUDE</th>\n",
       "      <th>TARGET(PRICE_IN_LACS)</th>\n",
       "    </tr>\n",
       "  </thead>\n",
       "  <tbody>\n",
       "    <tr>\n",
       "      <th>0</th>\n",
       "      <td>Owner</td>\n",
       "      <td>0</td>\n",
       "      <td>0</td>\n",
       "      <td>2</td>\n",
       "      <td>BHK</td>\n",
       "      <td>1300.236407</td>\n",
       "      <td>1</td>\n",
       "      <td>1</td>\n",
       "      <td>Ksfc Layout,Bangalore</td>\n",
       "      <td>12.969910</td>\n",
       "      <td>77.597960</td>\n",
       "      <td>55.0</td>\n",
       "    </tr>\n",
       "    <tr>\n",
       "      <th>1</th>\n",
       "      <td>Dealer</td>\n",
       "      <td>0</td>\n",
       "      <td>0</td>\n",
       "      <td>2</td>\n",
       "      <td>BHK</td>\n",
       "      <td>1275.000000</td>\n",
       "      <td>1</td>\n",
       "      <td>1</td>\n",
       "      <td>Vishweshwara Nagar,Mysore</td>\n",
       "      <td>12.274538</td>\n",
       "      <td>76.644605</td>\n",
       "      <td>51.0</td>\n",
       "    </tr>\n",
       "    <tr>\n",
       "      <th>2</th>\n",
       "      <td>Owner</td>\n",
       "      <td>0</td>\n",
       "      <td>0</td>\n",
       "      <td>2</td>\n",
       "      <td>BHK</td>\n",
       "      <td>933.159722</td>\n",
       "      <td>1</td>\n",
       "      <td>1</td>\n",
       "      <td>Jigani,Bangalore</td>\n",
       "      <td>12.778033</td>\n",
       "      <td>77.632191</td>\n",
       "      <td>43.0</td>\n",
       "    </tr>\n",
       "    <tr>\n",
       "      <th>3</th>\n",
       "      <td>Owner</td>\n",
       "      <td>0</td>\n",
       "      <td>1</td>\n",
       "      <td>2</td>\n",
       "      <td>BHK</td>\n",
       "      <td>929.921143</td>\n",
       "      <td>1</td>\n",
       "      <td>1</td>\n",
       "      <td>Sector-1 Vaishali,Ghaziabad</td>\n",
       "      <td>28.642300</td>\n",
       "      <td>77.344500</td>\n",
       "      <td>62.5</td>\n",
       "    </tr>\n",
       "    <tr>\n",
       "      <th>4</th>\n",
       "      <td>Dealer</td>\n",
       "      <td>1</td>\n",
       "      <td>0</td>\n",
       "      <td>2</td>\n",
       "      <td>BHK</td>\n",
       "      <td>999.009247</td>\n",
       "      <td>0</td>\n",
       "      <td>1</td>\n",
       "      <td>New Town,Kolkata</td>\n",
       "      <td>22.592200</td>\n",
       "      <td>88.484911</td>\n",
       "      <td>60.5</td>\n",
       "    </tr>\n",
       "  </tbody>\n",
       "</table>\n",
       "</div>"
      ],
      "text/plain": [
       "  POSTED_BY  UNDER_CONSTRUCTION  RERA  BHK_NO. BHK_OR_RK    SQUARE_FT  \\\n",
       "0     Owner                   0     0        2       BHK  1300.236407   \n",
       "1    Dealer                   0     0        2       BHK  1275.000000   \n",
       "2     Owner                   0     0        2       BHK   933.159722   \n",
       "3     Owner                   0     1        2       BHK   929.921143   \n",
       "4    Dealer                   1     0        2       BHK   999.009247   \n",
       "\n",
       "   READY_TO_MOVE  RESALE                      ADDRESS  LONGITUDE   LATITUDE  \\\n",
       "0              1       1        Ksfc Layout,Bangalore  12.969910  77.597960   \n",
       "1              1       1    Vishweshwara Nagar,Mysore  12.274538  76.644605   \n",
       "2              1       1             Jigani,Bangalore  12.778033  77.632191   \n",
       "3              1       1  Sector-1 Vaishali,Ghaziabad  28.642300  77.344500   \n",
       "4              0       1             New Town,Kolkata  22.592200  88.484911   \n",
       "\n",
       "   TARGET(PRICE_IN_LACS)  \n",
       "0                   55.0  \n",
       "1                   51.0  \n",
       "2                   43.0  \n",
       "3                   62.5  \n",
       "4                   60.5  "
      ]
     },
     "execution_count": 1,
     "metadata": {},
     "output_type": "execute_result"
    }
   ],
   "source": [
    "import pandas as pd\n",
    "import numpy as np\n",
    "\n",
    "HPP = pd.read_csv('../input/house-price-prediction-challenge/train.csv')\n",
    "HPP.head()"
   ]
  },
  {
   "cell_type": "code",
   "execution_count": 2,
   "id": "b4786820",
   "metadata": {
    "execution": {
     "iopub.execute_input": "2021-08-27T08:29:40.806657Z",
     "iopub.status.busy": "2021-08-27T08:29:40.805246Z",
     "iopub.status.idle": "2021-08-27T08:29:40.813287Z",
     "shell.execute_reply": "2021-08-27T08:29:40.813796Z",
     "shell.execute_reply.started": "2021-08-27T08:23:35.857741Z"
    },
    "papermill": {
     "duration": 0.048984,
     "end_time": "2021-08-27T08:29:40.813995",
     "exception": false,
     "start_time": "2021-08-27T08:29:40.765011",
     "status": "completed"
    },
    "tags": []
   },
   "outputs": [
    {
     "data": {
      "text/plain": [
       "POSTED_BY                0\n",
       "UNDER_CONSTRUCTION       0\n",
       "RERA                     0\n",
       "BHK_NO.                  0\n",
       "BHK_OR_RK                0\n",
       "SQUARE_FT                0\n",
       "READY_TO_MOVE            0\n",
       "RESALE                   0\n",
       "ADDRESS                  0\n",
       "LONGITUDE                0\n",
       "LATITUDE                 0\n",
       "TARGET(PRICE_IN_LACS)    0\n",
       "dtype: int64"
      ]
     },
     "execution_count": 2,
     "metadata": {},
     "output_type": "execute_result"
    }
   ],
   "source": [
    "HPP.isnull().sum()"
   ]
  },
  {
   "cell_type": "code",
   "execution_count": 3,
   "id": "05d79500",
   "metadata": {
    "execution": {
     "iopub.execute_input": "2021-08-27T08:29:40.883925Z",
     "iopub.status.busy": "2021-08-27T08:29:40.882893Z",
     "iopub.status.idle": "2021-08-27T08:29:40.902552Z",
     "shell.execute_reply": "2021-08-27T08:29:40.903570Z",
     "shell.execute_reply.started": "2021-08-27T08:23:35.871727Z"
    },
    "papermill": {
     "duration": 0.062519,
     "end_time": "2021-08-27T08:29:40.903888",
     "exception": false,
     "start_time": "2021-08-27T08:29:40.841369",
     "status": "completed"
    },
    "tags": []
   },
   "outputs": [
    {
     "name": "stdout",
     "output_type": "stream",
     "text": [
      "<class 'pandas.core.frame.DataFrame'>\n",
      "RangeIndex: 29451 entries, 0 to 29450\n",
      "Data columns (total 12 columns):\n",
      " #   Column                 Non-Null Count  Dtype  \n",
      "---  ------                 --------------  -----  \n",
      " 0   POSTED_BY              29451 non-null  object \n",
      " 1   UNDER_CONSTRUCTION     29451 non-null  int64  \n",
      " 2   RERA                   29451 non-null  int64  \n",
      " 3   BHK_NO.                29451 non-null  int64  \n",
      " 4   BHK_OR_RK              29451 non-null  object \n",
      " 5   SQUARE_FT              29451 non-null  float64\n",
      " 6   READY_TO_MOVE          29451 non-null  int64  \n",
      " 7   RESALE                 29451 non-null  int64  \n",
      " 8   ADDRESS                29451 non-null  object \n",
      " 9   LONGITUDE              29451 non-null  float64\n",
      " 10  LATITUDE               29451 non-null  float64\n",
      " 11  TARGET(PRICE_IN_LACS)  29451 non-null  float64\n",
      "dtypes: float64(4), int64(5), object(3)\n",
      "memory usage: 2.7+ MB\n"
     ]
    }
   ],
   "source": [
    "HPP.info()"
   ]
  },
  {
   "cell_type": "code",
   "execution_count": 4,
   "id": "1ad9ec22",
   "metadata": {
    "execution": {
     "iopub.execute_input": "2021-08-27T08:29:40.967853Z",
     "iopub.status.busy": "2021-08-27T08:29:40.967218Z",
     "iopub.status.idle": "2021-08-27T08:29:40.976410Z",
     "shell.execute_reply": "2021-08-27T08:29:40.975798Z",
     "shell.execute_reply.started": "2021-08-27T08:23:35.895119Z"
    },
    "papermill": {
     "duration": 0.043571,
     "end_time": "2021-08-27T08:29:40.976558",
     "exception": false,
     "start_time": "2021-08-27T08:29:40.932987",
     "status": "completed"
    },
    "tags": []
   },
   "outputs": [
    {
     "name": "stdout",
     "output_type": "stream",
     "text": [
      "6899\n"
     ]
    }
   ],
   "source": [
    "HPP['ADDRESS'].unique()\n",
    "print(len(HPP['ADDRESS'].unique()))"
   ]
  },
  {
   "cell_type": "code",
   "execution_count": 5,
   "id": "4b266fa8",
   "metadata": {
    "execution": {
     "iopub.execute_input": "2021-08-27T08:29:41.040108Z",
     "iopub.status.busy": "2021-08-27T08:29:41.038813Z",
     "iopub.status.idle": "2021-08-27T08:29:41.044331Z",
     "shell.execute_reply": "2021-08-27T08:29:41.043786Z",
     "shell.execute_reply.started": "2021-08-27T08:23:35.907990Z"
    },
    "papermill": {
     "duration": 0.038991,
     "end_time": "2021-08-27T08:29:41.044477",
     "exception": false,
     "start_time": "2021-08-27T08:29:41.005486",
     "status": "completed"
    },
    "tags": []
   },
   "outputs": [
    {
     "data": {
      "text/plain": [
       "array(['Owner', 'Dealer', 'Builder'], dtype=object)"
      ]
     },
     "execution_count": 5,
     "metadata": {},
     "output_type": "execute_result"
    }
   ],
   "source": [
    "HPP['POSTED_BY'].unique()"
   ]
  },
  {
   "cell_type": "code",
   "execution_count": 6,
   "id": "3955ae21",
   "metadata": {
    "execution": {
     "iopub.execute_input": "2021-08-27T08:29:41.109446Z",
     "iopub.status.busy": "2021-08-27T08:29:41.108254Z",
     "iopub.status.idle": "2021-08-27T08:29:41.113523Z",
     "shell.execute_reply": "2021-08-27T08:29:41.112996Z",
     "shell.execute_reply.started": "2021-08-27T08:23:35.918632Z"
    },
    "papermill": {
     "duration": 0.039346,
     "end_time": "2021-08-27T08:29:41.113660",
     "exception": false,
     "start_time": "2021-08-27T08:29:41.074314",
     "status": "completed"
    },
    "tags": []
   },
   "outputs": [
    {
     "data": {
      "text/plain": [
       "array(['BHK', 'RK'], dtype=object)"
      ]
     },
     "execution_count": 6,
     "metadata": {},
     "output_type": "execute_result"
    }
   ],
   "source": [
    "HPP['BHK_OR_RK'].unique()"
   ]
  },
  {
   "cell_type": "code",
   "execution_count": 7,
   "id": "db114988",
   "metadata": {
    "execution": {
     "iopub.execute_input": "2021-08-27T08:29:41.175657Z",
     "iopub.status.busy": "2021-08-27T08:29:41.174983Z",
     "iopub.status.idle": "2021-08-27T08:29:41.179710Z",
     "shell.execute_reply": "2021-08-27T08:29:41.179214Z",
     "shell.execute_reply.started": "2021-08-27T08:23:35.933175Z"
    },
    "papermill": {
     "duration": 0.037621,
     "end_time": "2021-08-27T08:29:41.179853",
     "exception": false,
     "start_time": "2021-08-27T08:29:41.142232",
     "status": "completed"
    },
    "tags": []
   },
   "outputs": [],
   "source": [
    "#HPP = HPP[: 8000]"
   ]
  },
  {
   "cell_type": "code",
   "execution_count": 8,
   "id": "1e80279b",
   "metadata": {
    "execution": {
     "iopub.execute_input": "2021-08-27T08:29:41.255538Z",
     "iopub.status.busy": "2021-08-27T08:29:41.254795Z",
     "iopub.status.idle": "2021-08-27T08:29:41.261613Z",
     "shell.execute_reply": "2021-08-27T08:29:41.260748Z",
     "shell.execute_reply.started": "2021-08-27T08:23:35.942669Z"
    },
    "papermill": {
     "duration": 0.051496,
     "end_time": "2021-08-27T08:29:41.261838",
     "exception": false,
     "start_time": "2021-08-27T08:29:41.210342",
     "status": "completed"
    },
    "tags": []
   },
   "outputs": [],
   "source": [
    "X = HPP.iloc[ : , 0 : 11]"
   ]
  },
  {
   "cell_type": "code",
   "execution_count": 9,
   "id": "118f1d8a",
   "metadata": {
    "execution": {
     "iopub.execute_input": "2021-08-27T08:29:41.349988Z",
     "iopub.status.busy": "2021-08-27T08:29:41.349035Z",
     "iopub.status.idle": "2021-08-27T08:29:41.353603Z",
     "shell.execute_reply": "2021-08-27T08:29:41.352974Z",
     "shell.execute_reply.started": "2021-08-27T08:23:35.957906Z"
    },
    "papermill": {
     "duration": 0.05375,
     "end_time": "2021-08-27T08:29:41.353761",
     "exception": false,
     "start_time": "2021-08-27T08:29:41.300011",
     "status": "completed"
    },
    "tags": []
   },
   "outputs": [
    {
     "data": {
      "text/html": [
       "<div>\n",
       "<style scoped>\n",
       "    .dataframe tbody tr th:only-of-type {\n",
       "        vertical-align: middle;\n",
       "    }\n",
       "\n",
       "    .dataframe tbody tr th {\n",
       "        vertical-align: top;\n",
       "    }\n",
       "\n",
       "    .dataframe thead th {\n",
       "        text-align: right;\n",
       "    }\n",
       "</style>\n",
       "<table border=\"1\" class=\"dataframe\">\n",
       "  <thead>\n",
       "    <tr style=\"text-align: right;\">\n",
       "      <th></th>\n",
       "      <th>POSTED_BY</th>\n",
       "      <th>UNDER_CONSTRUCTION</th>\n",
       "      <th>RERA</th>\n",
       "      <th>BHK_NO.</th>\n",
       "      <th>BHK_OR_RK</th>\n",
       "      <th>SQUARE_FT</th>\n",
       "      <th>READY_TO_MOVE</th>\n",
       "      <th>RESALE</th>\n",
       "      <th>ADDRESS</th>\n",
       "      <th>LONGITUDE</th>\n",
       "      <th>LATITUDE</th>\n",
       "    </tr>\n",
       "  </thead>\n",
       "  <tbody>\n",
       "    <tr>\n",
       "      <th>0</th>\n",
       "      <td>Owner</td>\n",
       "      <td>0</td>\n",
       "      <td>0</td>\n",
       "      <td>2</td>\n",
       "      <td>BHK</td>\n",
       "      <td>1300.236407</td>\n",
       "      <td>1</td>\n",
       "      <td>1</td>\n",
       "      <td>Ksfc Layout,Bangalore</td>\n",
       "      <td>12.969910</td>\n",
       "      <td>77.597960</td>\n",
       "    </tr>\n",
       "    <tr>\n",
       "      <th>1</th>\n",
       "      <td>Dealer</td>\n",
       "      <td>0</td>\n",
       "      <td>0</td>\n",
       "      <td>2</td>\n",
       "      <td>BHK</td>\n",
       "      <td>1275.000000</td>\n",
       "      <td>1</td>\n",
       "      <td>1</td>\n",
       "      <td>Vishweshwara Nagar,Mysore</td>\n",
       "      <td>12.274538</td>\n",
       "      <td>76.644605</td>\n",
       "    </tr>\n",
       "    <tr>\n",
       "      <th>2</th>\n",
       "      <td>Owner</td>\n",
       "      <td>0</td>\n",
       "      <td>0</td>\n",
       "      <td>2</td>\n",
       "      <td>BHK</td>\n",
       "      <td>933.159722</td>\n",
       "      <td>1</td>\n",
       "      <td>1</td>\n",
       "      <td>Jigani,Bangalore</td>\n",
       "      <td>12.778033</td>\n",
       "      <td>77.632191</td>\n",
       "    </tr>\n",
       "    <tr>\n",
       "      <th>3</th>\n",
       "      <td>Owner</td>\n",
       "      <td>0</td>\n",
       "      <td>1</td>\n",
       "      <td>2</td>\n",
       "      <td>BHK</td>\n",
       "      <td>929.921143</td>\n",
       "      <td>1</td>\n",
       "      <td>1</td>\n",
       "      <td>Sector-1 Vaishali,Ghaziabad</td>\n",
       "      <td>28.642300</td>\n",
       "      <td>77.344500</td>\n",
       "    </tr>\n",
       "    <tr>\n",
       "      <th>4</th>\n",
       "      <td>Dealer</td>\n",
       "      <td>1</td>\n",
       "      <td>0</td>\n",
       "      <td>2</td>\n",
       "      <td>BHK</td>\n",
       "      <td>999.009247</td>\n",
       "      <td>0</td>\n",
       "      <td>1</td>\n",
       "      <td>New Town,Kolkata</td>\n",
       "      <td>22.592200</td>\n",
       "      <td>88.484911</td>\n",
       "    </tr>\n",
       "  </tbody>\n",
       "</table>\n",
       "</div>"
      ],
      "text/plain": [
       "  POSTED_BY  UNDER_CONSTRUCTION  RERA  BHK_NO. BHK_OR_RK    SQUARE_FT  \\\n",
       "0     Owner                   0     0        2       BHK  1300.236407   \n",
       "1    Dealer                   0     0        2       BHK  1275.000000   \n",
       "2     Owner                   0     0        2       BHK   933.159722   \n",
       "3     Owner                   0     1        2       BHK   929.921143   \n",
       "4    Dealer                   1     0        2       BHK   999.009247   \n",
       "\n",
       "   READY_TO_MOVE  RESALE                      ADDRESS  LONGITUDE   LATITUDE  \n",
       "0              1       1        Ksfc Layout,Bangalore  12.969910  77.597960  \n",
       "1              1       1    Vishweshwara Nagar,Mysore  12.274538  76.644605  \n",
       "2              1       1             Jigani,Bangalore  12.778033  77.632191  \n",
       "3              1       1  Sector-1 Vaishali,Ghaziabad  28.642300  77.344500  \n",
       "4              0       1             New Town,Kolkata  22.592200  88.484911  "
      ]
     },
     "execution_count": 9,
     "metadata": {},
     "output_type": "execute_result"
    }
   ],
   "source": [
    "X.head()"
   ]
  },
  {
   "cell_type": "code",
   "execution_count": 10,
   "id": "6919a760",
   "metadata": {
    "execution": {
     "iopub.execute_input": "2021-08-27T08:29:41.421123Z",
     "iopub.status.busy": "2021-08-27T08:29:41.420395Z",
     "iopub.status.idle": "2021-08-27T08:29:41.423308Z",
     "shell.execute_reply": "2021-08-27T08:29:41.422693Z",
     "shell.execute_reply.started": "2021-08-27T08:23:35.982238Z"
    },
    "papermill": {
     "duration": 0.039693,
     "end_time": "2021-08-27T08:29:41.423464",
     "exception": false,
     "start_time": "2021-08-27T08:29:41.383771",
     "status": "completed"
    },
    "tags": []
   },
   "outputs": [],
   "source": [
    "X.drop('ADDRESS', inplace = True, axis = 1)"
   ]
  },
  {
   "cell_type": "code",
   "execution_count": 11,
   "id": "286fc80f",
   "metadata": {
    "execution": {
     "iopub.execute_input": "2021-08-27T08:29:41.485172Z",
     "iopub.status.busy": "2021-08-27T08:29:41.484442Z",
     "iopub.status.idle": "2021-08-27T08:29:41.498793Z",
     "shell.execute_reply": "2021-08-27T08:29:41.499295Z",
     "shell.execute_reply.started": "2021-08-27T08:23:36.056463Z"
    },
    "papermill": {
     "duration": 0.046729,
     "end_time": "2021-08-27T08:29:41.499479",
     "exception": false,
     "start_time": "2021-08-27T08:29:41.452750",
     "status": "completed"
    },
    "tags": []
   },
   "outputs": [
    {
     "data": {
      "text/html": [
       "<div>\n",
       "<style scoped>\n",
       "    .dataframe tbody tr th:only-of-type {\n",
       "        vertical-align: middle;\n",
       "    }\n",
       "\n",
       "    .dataframe tbody tr th {\n",
       "        vertical-align: top;\n",
       "    }\n",
       "\n",
       "    .dataframe thead th {\n",
       "        text-align: right;\n",
       "    }\n",
       "</style>\n",
       "<table border=\"1\" class=\"dataframe\">\n",
       "  <thead>\n",
       "    <tr style=\"text-align: right;\">\n",
       "      <th></th>\n",
       "      <th>POSTED_BY</th>\n",
       "      <th>UNDER_CONSTRUCTION</th>\n",
       "      <th>RERA</th>\n",
       "      <th>BHK_NO.</th>\n",
       "      <th>BHK_OR_RK</th>\n",
       "      <th>SQUARE_FT</th>\n",
       "      <th>READY_TO_MOVE</th>\n",
       "      <th>RESALE</th>\n",
       "      <th>LONGITUDE</th>\n",
       "      <th>LATITUDE</th>\n",
       "    </tr>\n",
       "  </thead>\n",
       "  <tbody>\n",
       "    <tr>\n",
       "      <th>0</th>\n",
       "      <td>Owner</td>\n",
       "      <td>0</td>\n",
       "      <td>0</td>\n",
       "      <td>2</td>\n",
       "      <td>BHK</td>\n",
       "      <td>1300.236407</td>\n",
       "      <td>1</td>\n",
       "      <td>1</td>\n",
       "      <td>12.969910</td>\n",
       "      <td>77.597960</td>\n",
       "    </tr>\n",
       "    <tr>\n",
       "      <th>1</th>\n",
       "      <td>Dealer</td>\n",
       "      <td>0</td>\n",
       "      <td>0</td>\n",
       "      <td>2</td>\n",
       "      <td>BHK</td>\n",
       "      <td>1275.000000</td>\n",
       "      <td>1</td>\n",
       "      <td>1</td>\n",
       "      <td>12.274538</td>\n",
       "      <td>76.644605</td>\n",
       "    </tr>\n",
       "    <tr>\n",
       "      <th>2</th>\n",
       "      <td>Owner</td>\n",
       "      <td>0</td>\n",
       "      <td>0</td>\n",
       "      <td>2</td>\n",
       "      <td>BHK</td>\n",
       "      <td>933.159722</td>\n",
       "      <td>1</td>\n",
       "      <td>1</td>\n",
       "      <td>12.778033</td>\n",
       "      <td>77.632191</td>\n",
       "    </tr>\n",
       "    <tr>\n",
       "      <th>3</th>\n",
       "      <td>Owner</td>\n",
       "      <td>0</td>\n",
       "      <td>1</td>\n",
       "      <td>2</td>\n",
       "      <td>BHK</td>\n",
       "      <td>929.921143</td>\n",
       "      <td>1</td>\n",
       "      <td>1</td>\n",
       "      <td>28.642300</td>\n",
       "      <td>77.344500</td>\n",
       "    </tr>\n",
       "    <tr>\n",
       "      <th>4</th>\n",
       "      <td>Dealer</td>\n",
       "      <td>1</td>\n",
       "      <td>0</td>\n",
       "      <td>2</td>\n",
       "      <td>BHK</td>\n",
       "      <td>999.009247</td>\n",
       "      <td>0</td>\n",
       "      <td>1</td>\n",
       "      <td>22.592200</td>\n",
       "      <td>88.484911</td>\n",
       "    </tr>\n",
       "  </tbody>\n",
       "</table>\n",
       "</div>"
      ],
      "text/plain": [
       "  POSTED_BY  UNDER_CONSTRUCTION  RERA  BHK_NO. BHK_OR_RK    SQUARE_FT  \\\n",
       "0     Owner                   0     0        2       BHK  1300.236407   \n",
       "1    Dealer                   0     0        2       BHK  1275.000000   \n",
       "2     Owner                   0     0        2       BHK   933.159722   \n",
       "3     Owner                   0     1        2       BHK   929.921143   \n",
       "4    Dealer                   1     0        2       BHK   999.009247   \n",
       "\n",
       "   READY_TO_MOVE  RESALE  LONGITUDE   LATITUDE  \n",
       "0              1       1  12.969910  77.597960  \n",
       "1              1       1  12.274538  76.644605  \n",
       "2              1       1  12.778033  77.632191  \n",
       "3              1       1  28.642300  77.344500  \n",
       "4              0       1  22.592200  88.484911  "
      ]
     },
     "execution_count": 11,
     "metadata": {},
     "output_type": "execute_result"
    }
   ],
   "source": [
    "X.head()"
   ]
  },
  {
   "cell_type": "code",
   "execution_count": 12,
   "id": "5f4abad1",
   "metadata": {
    "execution": {
     "iopub.execute_input": "2021-08-27T08:29:41.562273Z",
     "iopub.status.busy": "2021-08-27T08:29:41.561659Z",
     "iopub.status.idle": "2021-08-27T08:29:41.565849Z",
     "shell.execute_reply": "2021-08-27T08:29:41.566576Z",
     "shell.execute_reply.started": "2021-08-27T08:23:36.071920Z"
    },
    "papermill": {
     "duration": 0.037439,
     "end_time": "2021-08-27T08:29:41.566751",
     "exception": false,
     "start_time": "2021-08-27T08:29:41.529312",
     "status": "completed"
    },
    "tags": []
   },
   "outputs": [],
   "source": [
    "y = HPP['TARGET(PRICE_IN_LACS)']"
   ]
  },
  {
   "cell_type": "code",
   "execution_count": 13,
   "id": "3306fa72",
   "metadata": {
    "execution": {
     "iopub.execute_input": "2021-08-27T08:29:41.630577Z",
     "iopub.status.busy": "2021-08-27T08:29:41.629830Z",
     "iopub.status.idle": "2021-08-27T08:29:42.558843Z",
     "shell.execute_reply": "2021-08-27T08:29:42.558212Z",
     "shell.execute_reply.started": "2021-08-27T08:23:36.083883Z"
    },
    "papermill": {
     "duration": 0.961729,
     "end_time": "2021-08-27T08:29:42.559002",
     "exception": false,
     "start_time": "2021-08-27T08:29:41.597273",
     "status": "completed"
    },
    "tags": []
   },
   "outputs": [
    {
     "data": {
      "text/html": [
       "<div>\n",
       "<style scoped>\n",
       "    .dataframe tbody tr th:only-of-type {\n",
       "        vertical-align: middle;\n",
       "    }\n",
       "\n",
       "    .dataframe tbody tr th {\n",
       "        vertical-align: top;\n",
       "    }\n",
       "\n",
       "    .dataframe thead th {\n",
       "        text-align: right;\n",
       "    }\n",
       "</style>\n",
       "<table border=\"1\" class=\"dataframe\">\n",
       "  <thead>\n",
       "    <tr style=\"text-align: right;\">\n",
       "      <th></th>\n",
       "      <th>0</th>\n",
       "      <th>1</th>\n",
       "    </tr>\n",
       "  </thead>\n",
       "  <tbody>\n",
       "    <tr>\n",
       "      <th>0</th>\n",
       "      <td>0.0</td>\n",
       "      <td>1.0</td>\n",
       "    </tr>\n",
       "    <tr>\n",
       "      <th>1</th>\n",
       "      <td>1.0</td>\n",
       "      <td>0.0</td>\n",
       "    </tr>\n",
       "    <tr>\n",
       "      <th>2</th>\n",
       "      <td>0.0</td>\n",
       "      <td>1.0</td>\n",
       "    </tr>\n",
       "    <tr>\n",
       "      <th>3</th>\n",
       "      <td>0.0</td>\n",
       "      <td>1.0</td>\n",
       "    </tr>\n",
       "    <tr>\n",
       "      <th>4</th>\n",
       "      <td>1.0</td>\n",
       "      <td>0.0</td>\n",
       "    </tr>\n",
       "  </tbody>\n",
       "</table>\n",
       "</div>"
      ],
      "text/plain": [
       "     0    1\n",
       "0  0.0  1.0\n",
       "1  1.0  0.0\n",
       "2  0.0  1.0\n",
       "3  0.0  1.0\n",
       "4  1.0  0.0"
      ]
     },
     "execution_count": 13,
     "metadata": {},
     "output_type": "execute_result"
    }
   ],
   "source": [
    "from sklearn.preprocessing import OneHotEncoder\n",
    "\n",
    "encoder = OneHotEncoder(sparse = False, handle_unknown = 'error', drop = 'first')\n",
    "PB = np.array(X['POSTED_BY'])\n",
    "PB = PB.reshape(-1, 1)\n",
    "PB_df = pd.DataFrame(encoder.fit_transform(PB))\n",
    "PB_df.head()"
   ]
  },
  {
   "cell_type": "code",
   "execution_count": 14,
   "id": "f81260c7",
   "metadata": {
    "execution": {
     "iopub.execute_input": "2021-08-27T08:29:42.631626Z",
     "iopub.status.busy": "2021-08-27T08:29:42.630929Z",
     "iopub.status.idle": "2021-08-27T08:29:42.652609Z",
     "shell.execute_reply": "2021-08-27T08:29:42.652044Z",
     "shell.execute_reply.started": "2021-08-27T08:23:36.111638Z"
    },
    "papermill": {
     "duration": 0.063188,
     "end_time": "2021-08-27T08:29:42.652771",
     "exception": false,
     "start_time": "2021-08-27T08:29:42.589583",
     "status": "completed"
    },
    "tags": []
   },
   "outputs": [
    {
     "data": {
      "text/html": [
       "<div>\n",
       "<style scoped>\n",
       "    .dataframe tbody tr th:only-of-type {\n",
       "        vertical-align: middle;\n",
       "    }\n",
       "\n",
       "    .dataframe tbody tr th {\n",
       "        vertical-align: top;\n",
       "    }\n",
       "\n",
       "    .dataframe thead th {\n",
       "        text-align: right;\n",
       "    }\n",
       "</style>\n",
       "<table border=\"1\" class=\"dataframe\">\n",
       "  <thead>\n",
       "    <tr style=\"text-align: right;\">\n",
       "      <th></th>\n",
       "      <th>UNDER_CONSTRUCTION</th>\n",
       "      <th>RERA</th>\n",
       "      <th>BHK_NO.</th>\n",
       "      <th>BHK_OR_RK</th>\n",
       "      <th>SQUARE_FT</th>\n",
       "      <th>READY_TO_MOVE</th>\n",
       "      <th>RESALE</th>\n",
       "      <th>LONGITUDE</th>\n",
       "      <th>LATITUDE</th>\n",
       "      <th>0</th>\n",
       "      <th>1</th>\n",
       "    </tr>\n",
       "  </thead>\n",
       "  <tbody>\n",
       "    <tr>\n",
       "      <th>0</th>\n",
       "      <td>0</td>\n",
       "      <td>0</td>\n",
       "      <td>2</td>\n",
       "      <td>BHK</td>\n",
       "      <td>1300.236407</td>\n",
       "      <td>1</td>\n",
       "      <td>1</td>\n",
       "      <td>12.969910</td>\n",
       "      <td>77.597960</td>\n",
       "      <td>0.0</td>\n",
       "      <td>1.0</td>\n",
       "    </tr>\n",
       "    <tr>\n",
       "      <th>1</th>\n",
       "      <td>0</td>\n",
       "      <td>0</td>\n",
       "      <td>2</td>\n",
       "      <td>BHK</td>\n",
       "      <td>1275.000000</td>\n",
       "      <td>1</td>\n",
       "      <td>1</td>\n",
       "      <td>12.274538</td>\n",
       "      <td>76.644605</td>\n",
       "      <td>1.0</td>\n",
       "      <td>0.0</td>\n",
       "    </tr>\n",
       "    <tr>\n",
       "      <th>2</th>\n",
       "      <td>0</td>\n",
       "      <td>0</td>\n",
       "      <td>2</td>\n",
       "      <td>BHK</td>\n",
       "      <td>933.159722</td>\n",
       "      <td>1</td>\n",
       "      <td>1</td>\n",
       "      <td>12.778033</td>\n",
       "      <td>77.632191</td>\n",
       "      <td>0.0</td>\n",
       "      <td>1.0</td>\n",
       "    </tr>\n",
       "    <tr>\n",
       "      <th>3</th>\n",
       "      <td>0</td>\n",
       "      <td>1</td>\n",
       "      <td>2</td>\n",
       "      <td>BHK</td>\n",
       "      <td>929.921143</td>\n",
       "      <td>1</td>\n",
       "      <td>1</td>\n",
       "      <td>28.642300</td>\n",
       "      <td>77.344500</td>\n",
       "      <td>0.0</td>\n",
       "      <td>1.0</td>\n",
       "    </tr>\n",
       "    <tr>\n",
       "      <th>4</th>\n",
       "      <td>1</td>\n",
       "      <td>0</td>\n",
       "      <td>2</td>\n",
       "      <td>BHK</td>\n",
       "      <td>999.009247</td>\n",
       "      <td>0</td>\n",
       "      <td>1</td>\n",
       "      <td>22.592200</td>\n",
       "      <td>88.484911</td>\n",
       "      <td>1.0</td>\n",
       "      <td>0.0</td>\n",
       "    </tr>\n",
       "  </tbody>\n",
       "</table>\n",
       "</div>"
      ],
      "text/plain": [
       "   UNDER_CONSTRUCTION  RERA  BHK_NO. BHK_OR_RK    SQUARE_FT  READY_TO_MOVE  \\\n",
       "0                   0     0        2       BHK  1300.236407              1   \n",
       "1                   0     0        2       BHK  1275.000000              1   \n",
       "2                   0     0        2       BHK   933.159722              1   \n",
       "3                   0     1        2       BHK   929.921143              1   \n",
       "4                   1     0        2       BHK   999.009247              0   \n",
       "\n",
       "   RESALE  LONGITUDE   LATITUDE    0    1  \n",
       "0       1  12.969910  77.597960  0.0  1.0  \n",
       "1       1  12.274538  76.644605  1.0  0.0  \n",
       "2       1  12.778033  77.632191  0.0  1.0  \n",
       "3       1  28.642300  77.344500  0.0  1.0  \n",
       "4       1  22.592200  88.484911  1.0  0.0  "
      ]
     },
     "execution_count": 14,
     "metadata": {},
     "output_type": "execute_result"
    }
   ],
   "source": [
    "X = X.join(PB_df)\n",
    "X.drop('POSTED_BY', inplace = True, axis = 1)\n",
    "X.head()"
   ]
  },
  {
   "cell_type": "code",
   "execution_count": 15,
   "id": "c7b0fd19",
   "metadata": {
    "execution": {
     "iopub.execute_input": "2021-08-27T08:29:42.722901Z",
     "iopub.status.busy": "2021-08-27T08:29:42.722256Z",
     "iopub.status.idle": "2021-08-27T08:29:42.730247Z",
     "shell.execute_reply": "2021-08-27T08:29:42.730741Z",
     "shell.execute_reply.started": "2021-08-27T08:23:36.138222Z"
    },
    "papermill": {
     "duration": 0.046822,
     "end_time": "2021-08-27T08:29:42.730930",
     "exception": false,
     "start_time": "2021-08-27T08:29:42.684108",
     "status": "completed"
    },
    "tags": []
   },
   "outputs": [],
   "source": [
    "BHRK = pd.get_dummies(X['BHK_OR_RK'], prefix = 'B', drop_first = True)\n",
    "X = pd.concat([X,BHRK], axis = 1)"
   ]
  },
  {
   "cell_type": "code",
   "execution_count": 16,
   "id": "5f300c4b",
   "metadata": {
    "execution": {
     "iopub.execute_input": "2021-08-27T08:29:42.800281Z",
     "iopub.status.busy": "2021-08-27T08:29:42.799585Z",
     "iopub.status.idle": "2021-08-27T08:29:42.803462Z",
     "shell.execute_reply": "2021-08-27T08:29:42.802934Z",
     "shell.execute_reply.started": "2021-08-27T08:23:36.151102Z"
    },
    "papermill": {
     "duration": 0.042151,
     "end_time": "2021-08-27T08:29:42.803624",
     "exception": false,
     "start_time": "2021-08-27T08:29:42.761473",
     "status": "completed"
    },
    "tags": []
   },
   "outputs": [
    {
     "data": {
      "text/html": [
       "<div>\n",
       "<style scoped>\n",
       "    .dataframe tbody tr th:only-of-type {\n",
       "        vertical-align: middle;\n",
       "    }\n",
       "\n",
       "    .dataframe tbody tr th {\n",
       "        vertical-align: top;\n",
       "    }\n",
       "\n",
       "    .dataframe thead th {\n",
       "        text-align: right;\n",
       "    }\n",
       "</style>\n",
       "<table border=\"1\" class=\"dataframe\">\n",
       "  <thead>\n",
       "    <tr style=\"text-align: right;\">\n",
       "      <th></th>\n",
       "      <th>B_RK</th>\n",
       "    </tr>\n",
       "  </thead>\n",
       "  <tbody>\n",
       "    <tr>\n",
       "      <th>0</th>\n",
       "      <td>0</td>\n",
       "    </tr>\n",
       "    <tr>\n",
       "      <th>1</th>\n",
       "      <td>0</td>\n",
       "    </tr>\n",
       "    <tr>\n",
       "      <th>2</th>\n",
       "      <td>0</td>\n",
       "    </tr>\n",
       "    <tr>\n",
       "      <th>3</th>\n",
       "      <td>0</td>\n",
       "    </tr>\n",
       "    <tr>\n",
       "      <th>4</th>\n",
       "      <td>0</td>\n",
       "    </tr>\n",
       "  </tbody>\n",
       "</table>\n",
       "</div>"
      ],
      "text/plain": [
       "   B_RK\n",
       "0     0\n",
       "1     0\n",
       "2     0\n",
       "3     0\n",
       "4     0"
      ]
     },
     "execution_count": 16,
     "metadata": {},
     "output_type": "execute_result"
    }
   ],
   "source": [
    "BHRK.head()"
   ]
  },
  {
   "cell_type": "code",
   "execution_count": 17,
   "id": "fad5d669",
   "metadata": {
    "execution": {
     "iopub.execute_input": "2021-08-27T08:29:42.871217Z",
     "iopub.status.busy": "2021-08-27T08:29:42.870499Z",
     "iopub.status.idle": "2021-08-27T08:29:42.884125Z",
     "shell.execute_reply": "2021-08-27T08:29:42.883469Z",
     "shell.execute_reply.started": "2021-08-27T08:23:36.162460Z"
    },
    "papermill": {
     "duration": 0.049456,
     "end_time": "2021-08-27T08:29:42.884266",
     "exception": false,
     "start_time": "2021-08-27T08:29:42.834810",
     "status": "completed"
    },
    "tags": []
   },
   "outputs": [
    {
     "name": "stdout",
     "output_type": "stream",
     "text": [
      "<class 'pandas.core.frame.DataFrame'>\n",
      "RangeIndex: 29451 entries, 0 to 29450\n",
      "Data columns (total 1 columns):\n",
      " #   Column  Non-Null Count  Dtype\n",
      "---  ------  --------------  -----\n",
      " 0   B_RK    29451 non-null  uint8\n",
      "dtypes: uint8(1)\n",
      "memory usage: 28.9 KB\n"
     ]
    }
   ],
   "source": [
    "BHRK.info()"
   ]
  },
  {
   "cell_type": "code",
   "execution_count": 18,
   "id": "020d9cc8",
   "metadata": {
    "execution": {
     "iopub.execute_input": "2021-08-27T08:29:42.964077Z",
     "iopub.status.busy": "2021-08-27T08:29:42.963087Z",
     "iopub.status.idle": "2021-08-27T08:29:42.966374Z",
     "shell.execute_reply": "2021-08-27T08:29:42.966887Z",
     "shell.execute_reply.started": "2021-08-27T08:23:36.181316Z"
    },
    "papermill": {
     "duration": 0.051366,
     "end_time": "2021-08-27T08:29:42.967076",
     "exception": false,
     "start_time": "2021-08-27T08:29:42.915710",
     "status": "completed"
    },
    "tags": []
   },
   "outputs": [
    {
     "data": {
      "text/html": [
       "<div>\n",
       "<style scoped>\n",
       "    .dataframe tbody tr th:only-of-type {\n",
       "        vertical-align: middle;\n",
       "    }\n",
       "\n",
       "    .dataframe tbody tr th {\n",
       "        vertical-align: top;\n",
       "    }\n",
       "\n",
       "    .dataframe thead th {\n",
       "        text-align: right;\n",
       "    }\n",
       "</style>\n",
       "<table border=\"1\" class=\"dataframe\">\n",
       "  <thead>\n",
       "    <tr style=\"text-align: right;\">\n",
       "      <th></th>\n",
       "      <th>UNDER_CONSTRUCTION</th>\n",
       "      <th>RERA</th>\n",
       "      <th>BHK_NO.</th>\n",
       "      <th>BHK_OR_RK</th>\n",
       "      <th>SQUARE_FT</th>\n",
       "      <th>READY_TO_MOVE</th>\n",
       "      <th>RESALE</th>\n",
       "      <th>LONGITUDE</th>\n",
       "      <th>LATITUDE</th>\n",
       "      <th>0</th>\n",
       "      <th>1</th>\n",
       "      <th>B_RK</th>\n",
       "    </tr>\n",
       "  </thead>\n",
       "  <tbody>\n",
       "    <tr>\n",
       "      <th>0</th>\n",
       "      <td>0</td>\n",
       "      <td>0</td>\n",
       "      <td>2</td>\n",
       "      <td>BHK</td>\n",
       "      <td>1300.236407</td>\n",
       "      <td>1</td>\n",
       "      <td>1</td>\n",
       "      <td>12.969910</td>\n",
       "      <td>77.597960</td>\n",
       "      <td>0.0</td>\n",
       "      <td>1.0</td>\n",
       "      <td>0</td>\n",
       "    </tr>\n",
       "    <tr>\n",
       "      <th>1</th>\n",
       "      <td>0</td>\n",
       "      <td>0</td>\n",
       "      <td>2</td>\n",
       "      <td>BHK</td>\n",
       "      <td>1275.000000</td>\n",
       "      <td>1</td>\n",
       "      <td>1</td>\n",
       "      <td>12.274538</td>\n",
       "      <td>76.644605</td>\n",
       "      <td>1.0</td>\n",
       "      <td>0.0</td>\n",
       "      <td>0</td>\n",
       "    </tr>\n",
       "    <tr>\n",
       "      <th>2</th>\n",
       "      <td>0</td>\n",
       "      <td>0</td>\n",
       "      <td>2</td>\n",
       "      <td>BHK</td>\n",
       "      <td>933.159722</td>\n",
       "      <td>1</td>\n",
       "      <td>1</td>\n",
       "      <td>12.778033</td>\n",
       "      <td>77.632191</td>\n",
       "      <td>0.0</td>\n",
       "      <td>1.0</td>\n",
       "      <td>0</td>\n",
       "    </tr>\n",
       "    <tr>\n",
       "      <th>3</th>\n",
       "      <td>0</td>\n",
       "      <td>1</td>\n",
       "      <td>2</td>\n",
       "      <td>BHK</td>\n",
       "      <td>929.921143</td>\n",
       "      <td>1</td>\n",
       "      <td>1</td>\n",
       "      <td>28.642300</td>\n",
       "      <td>77.344500</td>\n",
       "      <td>0.0</td>\n",
       "      <td>1.0</td>\n",
       "      <td>0</td>\n",
       "    </tr>\n",
       "    <tr>\n",
       "      <th>4</th>\n",
       "      <td>1</td>\n",
       "      <td>0</td>\n",
       "      <td>2</td>\n",
       "      <td>BHK</td>\n",
       "      <td>999.009247</td>\n",
       "      <td>0</td>\n",
       "      <td>1</td>\n",
       "      <td>22.592200</td>\n",
       "      <td>88.484911</td>\n",
       "      <td>1.0</td>\n",
       "      <td>0.0</td>\n",
       "      <td>0</td>\n",
       "    </tr>\n",
       "  </tbody>\n",
       "</table>\n",
       "</div>"
      ],
      "text/plain": [
       "   UNDER_CONSTRUCTION  RERA  BHK_NO. BHK_OR_RK    SQUARE_FT  READY_TO_MOVE  \\\n",
       "0                   0     0        2       BHK  1300.236407              1   \n",
       "1                   0     0        2       BHK  1275.000000              1   \n",
       "2                   0     0        2       BHK   933.159722              1   \n",
       "3                   0     1        2       BHK   929.921143              1   \n",
       "4                   1     0        2       BHK   999.009247              0   \n",
       "\n",
       "   RESALE  LONGITUDE   LATITUDE    0    1  B_RK  \n",
       "0       1  12.969910  77.597960  0.0  1.0     0  \n",
       "1       1  12.274538  76.644605  1.0  0.0     0  \n",
       "2       1  12.778033  77.632191  0.0  1.0     0  \n",
       "3       1  28.642300  77.344500  0.0  1.0     0  \n",
       "4       1  22.592200  88.484911  1.0  0.0     0  "
      ]
     },
     "execution_count": 18,
     "metadata": {},
     "output_type": "execute_result"
    }
   ],
   "source": [
    "X.head()"
   ]
  },
  {
   "cell_type": "code",
   "execution_count": 19,
   "id": "a1580188",
   "metadata": {
    "execution": {
     "iopub.execute_input": "2021-08-27T08:29:43.033776Z",
     "iopub.status.busy": "2021-08-27T08:29:43.033106Z",
     "iopub.status.idle": "2021-08-27T08:29:43.042318Z",
     "shell.execute_reply": "2021-08-27T08:29:43.042785Z",
     "shell.execute_reply.started": "2021-08-27T08:23:36.199584Z"
    },
    "papermill": {
     "duration": 0.044215,
     "end_time": "2021-08-27T08:29:43.042983",
     "exception": false,
     "start_time": "2021-08-27T08:29:42.998768",
     "status": "completed"
    },
    "tags": []
   },
   "outputs": [
    {
     "data": {
      "text/plain": [
       "array([0, 1], dtype=uint8)"
      ]
     },
     "execution_count": 19,
     "metadata": {},
     "output_type": "execute_result"
    }
   ],
   "source": [
    "X['B_RK'].unique()"
   ]
  },
  {
   "cell_type": "code",
   "execution_count": 20,
   "id": "2aa64e60",
   "metadata": {
    "execution": {
     "iopub.execute_input": "2021-08-27T08:29:43.111449Z",
     "iopub.status.busy": "2021-08-27T08:29:43.110723Z",
     "iopub.status.idle": "2021-08-27T08:29:43.118182Z",
     "shell.execute_reply": "2021-08-27T08:29:43.118634Z",
     "shell.execute_reply.started": "2021-08-27T08:23:36.207073Z"
    },
    "papermill": {
     "duration": 0.042862,
     "end_time": "2021-08-27T08:29:43.118805",
     "exception": false,
     "start_time": "2021-08-27T08:29:43.075943",
     "status": "completed"
    },
    "tags": []
   },
   "outputs": [
    {
     "data": {
      "text/plain": [
       "0    29427\n",
       "1       24\n",
       "Name: B_RK, dtype: int64"
      ]
     },
     "execution_count": 20,
     "metadata": {},
     "output_type": "execute_result"
    }
   ],
   "source": [
    "X['B_RK'].value_counts()"
   ]
  },
  {
   "cell_type": "code",
   "execution_count": 21,
   "id": "3177607c",
   "metadata": {
    "execution": {
     "iopub.execute_input": "2021-08-27T08:29:43.189566Z",
     "iopub.status.busy": "2021-08-27T08:29:43.188835Z",
     "iopub.status.idle": "2021-08-27T08:29:43.197031Z",
     "shell.execute_reply": "2021-08-27T08:29:43.196383Z",
     "shell.execute_reply.started": "2021-08-27T08:23:36.219634Z"
    },
    "papermill": {
     "duration": 0.045849,
     "end_time": "2021-08-27T08:29:43.197174",
     "exception": false,
     "start_time": "2021-08-27T08:29:43.151325",
     "status": "completed"
    },
    "tags": []
   },
   "outputs": [],
   "source": [
    "X.drop('BHK_OR_RK', inplace = True, axis = 1)"
   ]
  },
  {
   "cell_type": "code",
   "execution_count": 22,
   "id": "efe83f58",
   "metadata": {
    "execution": {
     "iopub.execute_input": "2021-08-27T08:29:43.266761Z",
     "iopub.status.busy": "2021-08-27T08:29:43.266083Z",
     "iopub.status.idle": "2021-08-27T08:29:43.282256Z",
     "shell.execute_reply": "2021-08-27T08:29:43.281582Z",
     "shell.execute_reply.started": "2021-08-27T08:23:36.230887Z"
    },
    "papermill": {
     "duration": 0.051398,
     "end_time": "2021-08-27T08:29:43.282400",
     "exception": false,
     "start_time": "2021-08-27T08:29:43.231002",
     "status": "completed"
    },
    "tags": []
   },
   "outputs": [
    {
     "data": {
      "text/html": [
       "<div>\n",
       "<style scoped>\n",
       "    .dataframe tbody tr th:only-of-type {\n",
       "        vertical-align: middle;\n",
       "    }\n",
       "\n",
       "    .dataframe tbody tr th {\n",
       "        vertical-align: top;\n",
       "    }\n",
       "\n",
       "    .dataframe thead th {\n",
       "        text-align: right;\n",
       "    }\n",
       "</style>\n",
       "<table border=\"1\" class=\"dataframe\">\n",
       "  <thead>\n",
       "    <tr style=\"text-align: right;\">\n",
       "      <th></th>\n",
       "      <th>UNDER_CONSTRUCTION</th>\n",
       "      <th>RERA</th>\n",
       "      <th>BHK_NO.</th>\n",
       "      <th>SQUARE_FT</th>\n",
       "      <th>READY_TO_MOVE</th>\n",
       "      <th>RESALE</th>\n",
       "      <th>LONGITUDE</th>\n",
       "      <th>LATITUDE</th>\n",
       "      <th>0</th>\n",
       "      <th>1</th>\n",
       "      <th>B_RK</th>\n",
       "    </tr>\n",
       "  </thead>\n",
       "  <tbody>\n",
       "    <tr>\n",
       "      <th>0</th>\n",
       "      <td>0</td>\n",
       "      <td>0</td>\n",
       "      <td>2</td>\n",
       "      <td>1300.236407</td>\n",
       "      <td>1</td>\n",
       "      <td>1</td>\n",
       "      <td>12.969910</td>\n",
       "      <td>77.597960</td>\n",
       "      <td>0.0</td>\n",
       "      <td>1.0</td>\n",
       "      <td>0</td>\n",
       "    </tr>\n",
       "    <tr>\n",
       "      <th>1</th>\n",
       "      <td>0</td>\n",
       "      <td>0</td>\n",
       "      <td>2</td>\n",
       "      <td>1275.000000</td>\n",
       "      <td>1</td>\n",
       "      <td>1</td>\n",
       "      <td>12.274538</td>\n",
       "      <td>76.644605</td>\n",
       "      <td>1.0</td>\n",
       "      <td>0.0</td>\n",
       "      <td>0</td>\n",
       "    </tr>\n",
       "    <tr>\n",
       "      <th>2</th>\n",
       "      <td>0</td>\n",
       "      <td>0</td>\n",
       "      <td>2</td>\n",
       "      <td>933.159722</td>\n",
       "      <td>1</td>\n",
       "      <td>1</td>\n",
       "      <td>12.778033</td>\n",
       "      <td>77.632191</td>\n",
       "      <td>0.0</td>\n",
       "      <td>1.0</td>\n",
       "      <td>0</td>\n",
       "    </tr>\n",
       "    <tr>\n",
       "      <th>3</th>\n",
       "      <td>0</td>\n",
       "      <td>1</td>\n",
       "      <td>2</td>\n",
       "      <td>929.921143</td>\n",
       "      <td>1</td>\n",
       "      <td>1</td>\n",
       "      <td>28.642300</td>\n",
       "      <td>77.344500</td>\n",
       "      <td>0.0</td>\n",
       "      <td>1.0</td>\n",
       "      <td>0</td>\n",
       "    </tr>\n",
       "    <tr>\n",
       "      <th>4</th>\n",
       "      <td>1</td>\n",
       "      <td>0</td>\n",
       "      <td>2</td>\n",
       "      <td>999.009247</td>\n",
       "      <td>0</td>\n",
       "      <td>1</td>\n",
       "      <td>22.592200</td>\n",
       "      <td>88.484911</td>\n",
       "      <td>1.0</td>\n",
       "      <td>0.0</td>\n",
       "      <td>0</td>\n",
       "    </tr>\n",
       "  </tbody>\n",
       "</table>\n",
       "</div>"
      ],
      "text/plain": [
       "   UNDER_CONSTRUCTION  RERA  BHK_NO.    SQUARE_FT  READY_TO_MOVE  RESALE  \\\n",
       "0                   0     0        2  1300.236407              1       1   \n",
       "1                   0     0        2  1275.000000              1       1   \n",
       "2                   0     0        2   933.159722              1       1   \n",
       "3                   0     1        2   929.921143              1       1   \n",
       "4                   1     0        2   999.009247              0       1   \n",
       "\n",
       "   LONGITUDE   LATITUDE    0    1  B_RK  \n",
       "0  12.969910  77.597960  0.0  1.0     0  \n",
       "1  12.274538  76.644605  1.0  0.0     0  \n",
       "2  12.778033  77.632191  0.0  1.0     0  \n",
       "3  28.642300  77.344500  0.0  1.0     0  \n",
       "4  22.592200  88.484911  1.0  0.0     0  "
      ]
     },
     "execution_count": 22,
     "metadata": {},
     "output_type": "execute_result"
    }
   ],
   "source": [
    "X.head()"
   ]
  },
  {
   "cell_type": "code",
   "execution_count": 23,
   "id": "fbb5a115",
   "metadata": {
    "execution": {
     "iopub.execute_input": "2021-08-27T08:29:43.352476Z",
     "iopub.status.busy": "2021-08-27T08:29:43.351517Z",
     "iopub.status.idle": "2021-08-27T08:29:43.355965Z",
     "shell.execute_reply": "2021-08-27T08:29:43.355432Z",
     "shell.execute_reply.started": "2021-08-27T08:23:36.249115Z"
    },
    "papermill": {
     "duration": 0.040389,
     "end_time": "2021-08-27T08:29:43.356102",
     "exception": false,
     "start_time": "2021-08-27T08:29:43.315713",
     "status": "completed"
    },
    "tags": []
   },
   "outputs": [],
   "source": [
    "from sklearn.preprocessing import StandardScaler, MinMaxScaler"
   ]
  },
  {
   "cell_type": "code",
   "execution_count": 24,
   "id": "3d717edf",
   "metadata": {
    "execution": {
     "iopub.execute_input": "2021-08-27T08:29:43.425989Z",
     "iopub.status.busy": "2021-08-27T08:29:43.424974Z",
     "iopub.status.idle": "2021-08-27T08:29:43.431013Z",
     "shell.execute_reply": "2021-08-27T08:29:43.431465Z",
     "shell.execute_reply.started": "2021-08-27T08:23:36.257086Z"
    },
    "papermill": {
     "duration": 0.042254,
     "end_time": "2021-08-27T08:29:43.431647",
     "exception": false,
     "start_time": "2021-08-27T08:29:43.389393",
     "status": "completed"
    },
    "tags": []
   },
   "outputs": [],
   "source": [
    "scaler = MinMaxScaler()\n",
    "\n",
    "k = np.array(X['SQUARE_FT'])\n",
    "k= k.reshape(-1, 1)\n",
    "K = scaler.fit_transform(k)\n",
    "\n",
    "X['SQUARE_FT'] = K"
   ]
  },
  {
   "cell_type": "code",
   "execution_count": 25,
   "id": "f0dddd3f",
   "metadata": {
    "execution": {
     "iopub.execute_input": "2021-08-27T08:29:43.500647Z",
     "iopub.status.busy": "2021-08-27T08:29:43.499930Z",
     "iopub.status.idle": "2021-08-27T08:29:43.515406Z",
     "shell.execute_reply": "2021-08-27T08:29:43.514823Z",
     "shell.execute_reply.started": "2021-08-27T08:23:36.268975Z"
    },
    "papermill": {
     "duration": 0.051048,
     "end_time": "2021-08-27T08:29:43.515561",
     "exception": false,
     "start_time": "2021-08-27T08:29:43.464513",
     "status": "completed"
    },
    "tags": []
   },
   "outputs": [
    {
     "data": {
      "text/html": [
       "<div>\n",
       "<style scoped>\n",
       "    .dataframe tbody tr th:only-of-type {\n",
       "        vertical-align: middle;\n",
       "    }\n",
       "\n",
       "    .dataframe tbody tr th {\n",
       "        vertical-align: top;\n",
       "    }\n",
       "\n",
       "    .dataframe thead th {\n",
       "        text-align: right;\n",
       "    }\n",
       "</style>\n",
       "<table border=\"1\" class=\"dataframe\">\n",
       "  <thead>\n",
       "    <tr style=\"text-align: right;\">\n",
       "      <th></th>\n",
       "      <th>UNDER_CONSTRUCTION</th>\n",
       "      <th>RERA</th>\n",
       "      <th>BHK_NO.</th>\n",
       "      <th>SQUARE_FT</th>\n",
       "      <th>READY_TO_MOVE</th>\n",
       "      <th>RESALE</th>\n",
       "      <th>LONGITUDE</th>\n",
       "      <th>LATITUDE</th>\n",
       "      <th>0</th>\n",
       "      <th>1</th>\n",
       "      <th>B_RK</th>\n",
       "    </tr>\n",
       "  </thead>\n",
       "  <tbody>\n",
       "    <tr>\n",
       "      <th>0</th>\n",
       "      <td>0</td>\n",
       "      <td>0</td>\n",
       "      <td>2</td>\n",
       "      <td>0.000005</td>\n",
       "      <td>1</td>\n",
       "      <td>1</td>\n",
       "      <td>12.969910</td>\n",
       "      <td>77.597960</td>\n",
       "      <td>0.0</td>\n",
       "      <td>1.0</td>\n",
       "      <td>0</td>\n",
       "    </tr>\n",
       "    <tr>\n",
       "      <th>1</th>\n",
       "      <td>0</td>\n",
       "      <td>0</td>\n",
       "      <td>2</td>\n",
       "      <td>0.000005</td>\n",
       "      <td>1</td>\n",
       "      <td>1</td>\n",
       "      <td>12.274538</td>\n",
       "      <td>76.644605</td>\n",
       "      <td>1.0</td>\n",
       "      <td>0.0</td>\n",
       "      <td>0</td>\n",
       "    </tr>\n",
       "    <tr>\n",
       "      <th>2</th>\n",
       "      <td>0</td>\n",
       "      <td>0</td>\n",
       "      <td>2</td>\n",
       "      <td>0.000004</td>\n",
       "      <td>1</td>\n",
       "      <td>1</td>\n",
       "      <td>12.778033</td>\n",
       "      <td>77.632191</td>\n",
       "      <td>0.0</td>\n",
       "      <td>1.0</td>\n",
       "      <td>0</td>\n",
       "    </tr>\n",
       "    <tr>\n",
       "      <th>3</th>\n",
       "      <td>0</td>\n",
       "      <td>1</td>\n",
       "      <td>2</td>\n",
       "      <td>0.000004</td>\n",
       "      <td>1</td>\n",
       "      <td>1</td>\n",
       "      <td>28.642300</td>\n",
       "      <td>77.344500</td>\n",
       "      <td>0.0</td>\n",
       "      <td>1.0</td>\n",
       "      <td>0</td>\n",
       "    </tr>\n",
       "    <tr>\n",
       "      <th>4</th>\n",
       "      <td>1</td>\n",
       "      <td>0</td>\n",
       "      <td>2</td>\n",
       "      <td>0.000004</td>\n",
       "      <td>0</td>\n",
       "      <td>1</td>\n",
       "      <td>22.592200</td>\n",
       "      <td>88.484911</td>\n",
       "      <td>1.0</td>\n",
       "      <td>0.0</td>\n",
       "      <td>0</td>\n",
       "    </tr>\n",
       "  </tbody>\n",
       "</table>\n",
       "</div>"
      ],
      "text/plain": [
       "   UNDER_CONSTRUCTION  RERA  BHK_NO.  SQUARE_FT  READY_TO_MOVE  RESALE  \\\n",
       "0                   0     0        2   0.000005              1       1   \n",
       "1                   0     0        2   0.000005              1       1   \n",
       "2                   0     0        2   0.000004              1       1   \n",
       "3                   0     1        2   0.000004              1       1   \n",
       "4                   1     0        2   0.000004              0       1   \n",
       "\n",
       "   LONGITUDE   LATITUDE    0    1  B_RK  \n",
       "0  12.969910  77.597960  0.0  1.0     0  \n",
       "1  12.274538  76.644605  1.0  0.0     0  \n",
       "2  12.778033  77.632191  0.0  1.0     0  \n",
       "3  28.642300  77.344500  0.0  1.0     0  \n",
       "4  22.592200  88.484911  1.0  0.0     0  "
      ]
     },
     "execution_count": 25,
     "metadata": {},
     "output_type": "execute_result"
    }
   ],
   "source": [
    "X.head()"
   ]
  },
  {
   "cell_type": "code",
   "execution_count": 26,
   "id": "357854a8",
   "metadata": {
    "execution": {
     "iopub.execute_input": "2021-08-27T08:29:43.588692Z",
     "iopub.status.busy": "2021-08-27T08:29:43.587821Z",
     "iopub.status.idle": "2021-08-27T08:29:43.591270Z",
     "shell.execute_reply": "2021-08-27T08:29:43.591860Z",
     "shell.execute_reply.started": "2021-08-27T08:23:36.287544Z"
    },
    "papermill": {
     "duration": 0.042932,
     "end_time": "2021-08-27T08:29:43.592083",
     "exception": false,
     "start_time": "2021-08-27T08:29:43.549151",
     "status": "completed"
    },
    "tags": []
   },
   "outputs": [],
   "source": [
    "k = np.array(X['LONGITUDE'])\n",
    "k= k.reshape(-1, 1)\n",
    "K = scaler.fit_transform(k)\n",
    "\n",
    "X['LONGITUDE'] = K"
   ]
  },
  {
   "cell_type": "code",
   "execution_count": 27,
   "id": "f31f7aa2",
   "metadata": {
    "execution": {
     "iopub.execute_input": "2021-08-27T08:29:43.665616Z",
     "iopub.status.busy": "2021-08-27T08:29:43.664536Z",
     "iopub.status.idle": "2021-08-27T08:29:43.668280Z",
     "shell.execute_reply": "2021-08-27T08:29:43.668732Z",
     "shell.execute_reply.started": "2021-08-27T08:23:36.295462Z"
    },
    "papermill": {
     "duration": 0.042906,
     "end_time": "2021-08-27T08:29:43.668905",
     "exception": false,
     "start_time": "2021-08-27T08:29:43.625999",
     "status": "completed"
    },
    "tags": []
   },
   "outputs": [],
   "source": [
    "k = np.array(X['LATITUDE'])\n",
    "k= k.reshape(-1, 1)\n",
    "K = scaler.fit_transform(k)\n",
    "\n",
    "X['LATITUDE'] = K"
   ]
  },
  {
   "cell_type": "code",
   "execution_count": 28,
   "id": "5e206457",
   "metadata": {
    "execution": {
     "iopub.execute_input": "2021-08-27T08:29:43.752106Z",
     "iopub.status.busy": "2021-08-27T08:29:43.751250Z",
     "iopub.status.idle": "2021-08-27T08:29:43.754432Z",
     "shell.execute_reply": "2021-08-27T08:29:43.754852Z",
     "shell.execute_reply.started": "2021-08-27T08:23:36.306155Z"
    },
    "papermill": {
     "duration": 0.052257,
     "end_time": "2021-08-27T08:29:43.755047",
     "exception": false,
     "start_time": "2021-08-27T08:29:43.702790",
     "status": "completed"
    },
    "tags": []
   },
   "outputs": [
    {
     "data": {
      "text/html": [
       "<div>\n",
       "<style scoped>\n",
       "    .dataframe tbody tr th:only-of-type {\n",
       "        vertical-align: middle;\n",
       "    }\n",
       "\n",
       "    .dataframe tbody tr th {\n",
       "        vertical-align: top;\n",
       "    }\n",
       "\n",
       "    .dataframe thead th {\n",
       "        text-align: right;\n",
       "    }\n",
       "</style>\n",
       "<table border=\"1\" class=\"dataframe\">\n",
       "  <thead>\n",
       "    <tr style=\"text-align: right;\">\n",
       "      <th></th>\n",
       "      <th>UNDER_CONSTRUCTION</th>\n",
       "      <th>RERA</th>\n",
       "      <th>BHK_NO.</th>\n",
       "      <th>SQUARE_FT</th>\n",
       "      <th>READY_TO_MOVE</th>\n",
       "      <th>RESALE</th>\n",
       "      <th>LONGITUDE</th>\n",
       "      <th>LATITUDE</th>\n",
       "      <th>0</th>\n",
       "      <th>1</th>\n",
       "      <th>B_RK</th>\n",
       "    </tr>\n",
       "  </thead>\n",
       "  <tbody>\n",
       "    <tr>\n",
       "      <th>0</th>\n",
       "      <td>0</td>\n",
       "      <td>0</td>\n",
       "      <td>2</td>\n",
       "      <td>0.000005</td>\n",
       "      <td>1</td>\n",
       "      <td>1</td>\n",
       "      <td>0.519154</td>\n",
       "      <td>0.725671</td>\n",
       "      <td>0.0</td>\n",
       "      <td>1.0</td>\n",
       "      <td>0</td>\n",
       "    </tr>\n",
       "    <tr>\n",
       "      <th>1</th>\n",
       "      <td>0</td>\n",
       "      <td>0</td>\n",
       "      <td>2</td>\n",
       "      <td>0.000005</td>\n",
       "      <td>1</td>\n",
       "      <td>1</td>\n",
       "      <td>0.512032</td>\n",
       "      <td>0.722201</td>\n",
       "      <td>1.0</td>\n",
       "      <td>0.0</td>\n",
       "      <td>0</td>\n",
       "    </tr>\n",
       "    <tr>\n",
       "      <th>2</th>\n",
       "      <td>0</td>\n",
       "      <td>0</td>\n",
       "      <td>2</td>\n",
       "      <td>0.000004</td>\n",
       "      <td>1</td>\n",
       "      <td>1</td>\n",
       "      <td>0.517189</td>\n",
       "      <td>0.725796</td>\n",
       "      <td>0.0</td>\n",
       "      <td>1.0</td>\n",
       "      <td>0</td>\n",
       "    </tr>\n",
       "    <tr>\n",
       "      <th>3</th>\n",
       "      <td>0</td>\n",
       "      <td>1</td>\n",
       "      <td>2</td>\n",
       "      <td>0.000004</td>\n",
       "      <td>1</td>\n",
       "      <td>1</td>\n",
       "      <td>0.679690</td>\n",
       "      <td>0.724748</td>\n",
       "      <td>0.0</td>\n",
       "      <td>1.0</td>\n",
       "      <td>0</td>\n",
       "    </tr>\n",
       "    <tr>\n",
       "      <th>4</th>\n",
       "      <td>1</td>\n",
       "      <td>0</td>\n",
       "      <td>2</td>\n",
       "      <td>0.000004</td>\n",
       "      <td>0</td>\n",
       "      <td>1</td>\n",
       "      <td>0.617717</td>\n",
       "      <td>0.765300</td>\n",
       "      <td>1.0</td>\n",
       "      <td>0.0</td>\n",
       "      <td>0</td>\n",
       "    </tr>\n",
       "  </tbody>\n",
       "</table>\n",
       "</div>"
      ],
      "text/plain": [
       "   UNDER_CONSTRUCTION  RERA  BHK_NO.  SQUARE_FT  READY_TO_MOVE  RESALE  \\\n",
       "0                   0     0        2   0.000005              1       1   \n",
       "1                   0     0        2   0.000005              1       1   \n",
       "2                   0     0        2   0.000004              1       1   \n",
       "3                   0     1        2   0.000004              1       1   \n",
       "4                   1     0        2   0.000004              0       1   \n",
       "\n",
       "   LONGITUDE  LATITUDE    0    1  B_RK  \n",
       "0   0.519154  0.725671  0.0  1.0     0  \n",
       "1   0.512032  0.722201  1.0  0.0     0  \n",
       "2   0.517189  0.725796  0.0  1.0     0  \n",
       "3   0.679690  0.724748  0.0  1.0     0  \n",
       "4   0.617717  0.765300  1.0  0.0     0  "
      ]
     },
     "execution_count": 28,
     "metadata": {},
     "output_type": "execute_result"
    }
   ],
   "source": [
    "X.head()"
   ]
  },
  {
   "cell_type": "code",
   "execution_count": 29,
   "id": "522228ae",
   "metadata": {
    "execution": {
     "iopub.execute_input": "2021-08-27T08:29:43.827532Z",
     "iopub.status.busy": "2021-08-27T08:29:43.826859Z",
     "iopub.status.idle": "2021-08-27T08:29:43.997720Z",
     "shell.execute_reply": "2021-08-27T08:29:43.998703Z",
     "shell.execute_reply.started": "2021-08-27T08:23:36.326326Z"
    },
    "papermill": {
     "duration": 0.209327,
     "end_time": "2021-08-27T08:29:43.998911",
     "exception": false,
     "start_time": "2021-08-27T08:29:43.789584",
     "status": "completed"
    },
    "tags": []
   },
   "outputs": [],
   "source": [
    "import xgboost as xgb\n",
    "from sklearn.model_selection import train_test_split\n",
    "\n",
    "X_train, X_test, y_train, y_test = train_test_split(X, y, test_size = 0.2, random_state = 1)\n",
    "\n",
    "train = xgb.DMatrix(X_train, label = y_train)\n",
    "test = xgb.DMatrix(X_test, label = y_test)"
   ]
  },
  {
   "cell_type": "code",
   "execution_count": 30,
   "id": "4e586fa0",
   "metadata": {
    "execution": {
     "iopub.execute_input": "2021-08-27T08:29:44.075944Z",
     "iopub.status.busy": "2021-08-27T08:29:44.074888Z",
     "iopub.status.idle": "2021-08-27T08:29:44.077217Z",
     "shell.execute_reply": "2021-08-27T08:29:44.077795Z",
     "shell.execute_reply.started": "2021-08-27T08:23:36.356663Z"
    },
    "papermill": {
     "duration": 0.041728,
     "end_time": "2021-08-27T08:29:44.077977",
     "exception": false,
     "start_time": "2021-08-27T08:29:44.036249",
     "status": "completed"
    },
    "tags": []
   },
   "outputs": [],
   "source": [
    "param = {\n",
    "       'max_depth' : 15,\n",
    "       'eta' : 0.6,\n",
    "       'objective' : 'reg:squarederror'\n",
    "       }\n",
    "\n",
    "epochs = 10"
   ]
  },
  {
   "cell_type": "code",
   "execution_count": 31,
   "id": "d12ee256",
   "metadata": {
    "execution": {
     "iopub.execute_input": "2021-08-27T08:29:44.149881Z",
     "iopub.status.busy": "2021-08-27T08:29:44.148922Z",
     "iopub.status.idle": "2021-08-27T08:29:44.577531Z",
     "shell.execute_reply": "2021-08-27T08:29:44.576975Z",
     "shell.execute_reply.started": "2021-08-27T08:23:36.362665Z"
    },
    "papermill": {
     "duration": 0.465635,
     "end_time": "2021-08-27T08:29:44.577684",
     "exception": false,
     "start_time": "2021-08-27T08:29:44.112049",
     "status": "completed"
    },
    "tags": []
   },
   "outputs": [],
   "source": [
    "model = xgb.train(param, train, epochs)"
   ]
  },
  {
   "cell_type": "code",
   "execution_count": 32,
   "id": "bcbae0cf",
   "metadata": {
    "execution": {
     "iopub.execute_input": "2021-08-27T08:29:44.656114Z",
     "iopub.status.busy": "2021-08-27T08:29:44.655288Z",
     "iopub.status.idle": "2021-08-27T08:29:44.659662Z",
     "shell.execute_reply": "2021-08-27T08:29:44.660177Z",
     "shell.execute_reply.started": "2021-08-27T08:23:36.773481Z"
    },
    "papermill": {
     "duration": 0.047498,
     "end_time": "2021-08-27T08:29:44.660375",
     "exception": false,
     "start_time": "2021-08-27T08:29:44.612877",
     "status": "completed"
    },
    "tags": []
   },
   "outputs": [],
   "source": [
    "predictions = model.predict(test)"
   ]
  },
  {
   "cell_type": "code",
   "execution_count": 33,
   "id": "fc7b0710",
   "metadata": {
    "execution": {
     "iopub.execute_input": "2021-08-27T08:29:44.738024Z",
     "iopub.status.busy": "2021-08-27T08:29:44.736934Z",
     "iopub.status.idle": "2021-08-27T08:29:44.740292Z",
     "shell.execute_reply": "2021-08-27T08:29:44.740764Z",
     "shell.execute_reply.started": "2021-08-27T08:29:01.377639Z"
    },
    "papermill": {
     "duration": 0.044099,
     "end_time": "2021-08-27T08:29:44.740929",
     "exception": false,
     "start_time": "2021-08-27T08:29:44.696830",
     "status": "completed"
    },
    "tags": []
   },
   "outputs": [
    {
     "name": "stdout",
     "output_type": "stream",
     "text": [
      "347.62795777918075\n"
     ]
    }
   ],
   "source": [
    "from sklearn.metrics import mean_squared_error, accuracy_score\n",
    "\n",
    "rmse = mean_squared_error(predictions, y_test, squared = False)\n",
    "print(rmse)"
   ]
  }
 ],
 "metadata": {
  "kernelspec": {
   "display_name": "Python 3",
   "language": "python",
   "name": "python3"
  },
  "language_info": {
   "codemirror_mode": {
    "name": "ipython",
    "version": 3
   },
   "file_extension": ".py",
   "mimetype": "text/x-python",
   "name": "python",
   "nbconvert_exporter": "python",
   "pygments_lexer": "ipython3",
   "version": "3.7.10"
  },
  "papermill": {
   "default_parameters": {},
   "duration": 13.822149,
   "end_time": "2021-08-27T08:29:46.217628",
   "environment_variables": {},
   "exception": null,
   "input_path": "__notebook__.ipynb",
   "output_path": "__notebook__.ipynb",
   "parameters": {},
   "start_time": "2021-08-27T08:29:32.395479",
   "version": "2.3.3"
  }
 },
 "nbformat": 4,
 "nbformat_minor": 5
}
